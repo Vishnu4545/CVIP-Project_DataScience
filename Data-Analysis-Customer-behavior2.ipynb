{
 "cells": [
  {
   "cell_type": "markdown",
   "metadata": {},
   "source": [
    "# SuperMarket Transaction\n",
    "Complete Data Analysis And Data Visualization"
   ]
  },
  {
   "cell_type": "code",
   "execution_count": 2,
   "metadata": {
    "_cell_guid": "b1076dfc-b9ad-4769-8c92-a6c4dae69d19",
    "_uuid": "8f2839f25d086af736a60e9eeb907d3b93b6e0e5",
    "execution": {
     "iopub.execute_input": "2024-01-08T16:36:35.289863Z",
     "iopub.status.busy": "2024-01-08T16:36:35.289446Z",
     "iopub.status.idle": "2024-01-08T16:36:35.311849Z",
     "shell.execute_reply": "2024-01-08T16:36:35.310905Z",
     "shell.execute_reply.started": "2024-01-08T16:36:35.289830Z"
    }
   },
   "outputs": [],
   "source": [
    "\n",
    "import seaborn as sns\n",
    "import numpy as np \n",
    "import pandas as pd \n",
    "import matplotlib.pyplot as plt\n",
    "import os"
   ]
  },
  {
   "cell_type": "markdown",
   "metadata": {},
   "source": [
    "# Input\n",
    "Hackathon_Ideal_Data.csv"
   ]
  },
  {
   "cell_type": "code",
   "execution_count": 3,
   "metadata": {
    "execution": {
     "iopub.execute_input": "2024-01-08T16:16:49.656314Z",
     "iopub.status.busy": "2024-01-08T16:16:49.655738Z",
     "iopub.status.idle": "2024-01-08T16:16:49.763372Z",
     "shell.execute_reply": "2024-01-08T16:16:49.762260Z",
     "shell.execute_reply.started": "2024-01-08T16:16:49.656273Z"
    }
   },
   "outputs": [
    {
     "data": {
      "text/html": [
       "<div>\n",
       "<style scoped>\n",
       "    .dataframe tbody tr th:only-of-type {\n",
       "        vertical-align: middle;\n",
       "    }\n",
       "\n",
       "    .dataframe tbody tr th {\n",
       "        vertical-align: top;\n",
       "    }\n",
       "\n",
       "    .dataframe thead th {\n",
       "        text-align: right;\n",
       "    }\n",
       "</style>\n",
       "<table border=\"1\" class=\"dataframe\">\n",
       "  <thead>\n",
       "    <tr style=\"text-align: right;\">\n",
       "      <th></th>\n",
       "      <th>MONTH</th>\n",
       "      <th>STORECODE</th>\n",
       "      <th>DAY</th>\n",
       "      <th>BILL_ID</th>\n",
       "      <th>BILL_AMT</th>\n",
       "      <th>QTY</th>\n",
       "      <th>VALUE</th>\n",
       "      <th>PRICE</th>\n",
       "      <th>GRP</th>\n",
       "      <th>SGRP</th>\n",
       "      <th>SSGRP</th>\n",
       "      <th>CMP</th>\n",
       "      <th>MBRD</th>\n",
       "      <th>BRD</th>\n",
       "    </tr>\n",
       "  </thead>\n",
       "  <tbody>\n",
       "    <tr>\n",
       "      <th>0</th>\n",
       "      <td>M1</td>\n",
       "      <td>N1</td>\n",
       "      <td>4</td>\n",
       "      <td>T375</td>\n",
       "      <td>225.0</td>\n",
       "      <td>1.0</td>\n",
       "      <td>225.0</td>\n",
       "      <td>225.0</td>\n",
       "      <td>BUTTER MARGR  (4/94)</td>\n",
       "      <td>BUTTER</td>\n",
       "      <td>SALTED</td>\n",
       "      <td>G C M M F</td>\n",
       "      <td>AMUL</td>\n",
       "      <td>AMUL</td>\n",
       "    </tr>\n",
       "    <tr>\n",
       "      <th>1</th>\n",
       "      <td>M1</td>\n",
       "      <td>N1</td>\n",
       "      <td>4</td>\n",
       "      <td>T379</td>\n",
       "      <td>95.0</td>\n",
       "      <td>1.0</td>\n",
       "      <td>95.0</td>\n",
       "      <td>95.0</td>\n",
       "      <td>CONFECTIONERY - ECLAIRS</td>\n",
       "      <td>CONFECTIONERY - ECLAIRS</td>\n",
       "      <td>CONFECTIONERY - ECLAIRS</td>\n",
       "      <td>PARLE PRODS</td>\n",
       "      <td>MELODY</td>\n",
       "      <td>MELODY CHOCOLATY</td>\n",
       "    </tr>\n",
       "    <tr>\n",
       "      <th>2</th>\n",
       "      <td>M1</td>\n",
       "      <td>N1</td>\n",
       "      <td>4</td>\n",
       "      <td>T381</td>\n",
       "      <td>10.0</td>\n",
       "      <td>1.0</td>\n",
       "      <td>10.0</td>\n",
       "      <td>10.0</td>\n",
       "      <td>CHOCOLATE</td>\n",
       "      <td>CHOCOLATE PANNED</td>\n",
       "      <td>CHOCOLATE PANNED</td>\n",
       "      <td>MONDELEZ INTERNATIONAL</td>\n",
       "      <td>CADBURY SHOTS</td>\n",
       "      <td>CADBURY SHOTS</td>\n",
       "    </tr>\n",
       "    <tr>\n",
       "      <th>3</th>\n",
       "      <td>M1</td>\n",
       "      <td>N1</td>\n",
       "      <td>4</td>\n",
       "      <td>T382</td>\n",
       "      <td>108.0</td>\n",
       "      <td>1.0</td>\n",
       "      <td>108.0</td>\n",
       "      <td>108.0</td>\n",
       "      <td>PACKAGED TEA</td>\n",
       "      <td>MAIN PACKS</td>\n",
       "      <td>MAIN PACKS</td>\n",
       "      <td>GUJ TEA PROCESSORS</td>\n",
       "      <td>WAGH BAKRI</td>\n",
       "      <td>WAGH BAKRI INSTANT</td>\n",
       "    </tr>\n",
       "    <tr>\n",
       "      <th>4</th>\n",
       "      <td>M1</td>\n",
       "      <td>N1</td>\n",
       "      <td>4</td>\n",
       "      <td>T384</td>\n",
       "      <td>19.0</td>\n",
       "      <td>1.0</td>\n",
       "      <td>19.0</td>\n",
       "      <td>19.0</td>\n",
       "      <td>ALL IODISED SALT</td>\n",
       "      <td>POWDERED SALT</td>\n",
       "      <td>POWDERED SALT</td>\n",
       "      <td>TATA CHEM</td>\n",
       "      <td>TATA</td>\n",
       "      <td>TATA SALT</td>\n",
       "    </tr>\n",
       "  </tbody>\n",
       "</table>\n",
       "</div>"
      ],
      "text/plain": [
       "  MONTH STORECODE  DAY BILL_ID  BILL_AMT  QTY  VALUE  PRICE  \\\n",
       "0    M1        N1    4    T375     225.0  1.0  225.0  225.0   \n",
       "1    M1        N1    4    T379      95.0  1.0   95.0   95.0   \n",
       "2    M1        N1    4    T381      10.0  1.0   10.0   10.0   \n",
       "3    M1        N1    4    T382     108.0  1.0  108.0  108.0   \n",
       "4    M1        N1    4    T384      19.0  1.0   19.0   19.0   \n",
       "\n",
       "                       GRP                     SGRP                    SSGRP  \\\n",
       "0     BUTTER MARGR  (4/94)                   BUTTER                   SALTED   \n",
       "1  CONFECTIONERY - ECLAIRS  CONFECTIONERY - ECLAIRS  CONFECTIONERY - ECLAIRS   \n",
       "2                CHOCOLATE         CHOCOLATE PANNED         CHOCOLATE PANNED   \n",
       "3             PACKAGED TEA               MAIN PACKS               MAIN PACKS   \n",
       "4         ALL IODISED SALT            POWDERED SALT            POWDERED SALT   \n",
       "\n",
       "                      CMP           MBRD                 BRD  \n",
       "0               G C M M F           AMUL                AMUL  \n",
       "1             PARLE PRODS         MELODY    MELODY CHOCOLATY  \n",
       "2  MONDELEZ INTERNATIONAL  CADBURY SHOTS       CADBURY SHOTS  \n",
       "3      GUJ TEA PROCESSORS     WAGH BAKRI  WAGH BAKRI INSTANT  \n",
       "4               TATA CHEM           TATA           TATA SALT  "
      ]
     },
     "execution_count": 3,
     "metadata": {},
     "output_type": "execute_result"
    }
   ],
   "source": [
    "df=pd.read_csv(\"C:\\\\Users\\\\bhavi\\\\Downloads\\\\Hackathon_Working_Data.csv\")\n",
    "df.head()"
   ]
  },
  {
   "cell_type": "markdown",
   "metadata": {},
   "source": [
    "* GRP - Group Level\n",
    "* SGRP - Sub Group Level\n",
    "* SSGRP - Sub Sub Group Level\n",
    "* CMP - Company\n",
    "* MBRD - Mother Brand Level\n",
    "* BRD - Brand Level"
   ]
  },
  {
   "cell_type": "code",
   "execution_count": 4,
   "metadata": {
    "execution": {
     "iopub.execute_input": "2024-01-08T16:24:53.315390Z",
     "iopub.status.busy": "2024-01-08T16:24:53.314979Z",
     "iopub.status.idle": "2024-01-08T16:24:53.341441Z",
     "shell.execute_reply": "2024-01-08T16:24:53.340242Z",
     "shell.execute_reply.started": "2024-01-08T16:24:53.315358Z"
    }
   },
   "outputs": [
    {
     "data": {
      "text/html": [
       "<div>\n",
       "<style scoped>\n",
       "    .dataframe tbody tr th:only-of-type {\n",
       "        vertical-align: middle;\n",
       "    }\n",
       "\n",
       "    .dataframe tbody tr th {\n",
       "        vertical-align: top;\n",
       "    }\n",
       "\n",
       "    .dataframe thead th {\n",
       "        text-align: right;\n",
       "    }\n",
       "</style>\n",
       "<table border=\"1\" class=\"dataframe\">\n",
       "  <thead>\n",
       "    <tr style=\"text-align: right;\">\n",
       "      <th></th>\n",
       "      <th>DAY</th>\n",
       "      <th>BILL_AMT</th>\n",
       "      <th>QTY</th>\n",
       "      <th>VALUE</th>\n",
       "      <th>PRICE</th>\n",
       "    </tr>\n",
       "  </thead>\n",
       "  <tbody>\n",
       "    <tr>\n",
       "      <th>count</th>\n",
       "      <td>26985.000000</td>\n",
       "      <td>26985.000000</td>\n",
       "      <td>26985.000000</td>\n",
       "      <td>26985.000000</td>\n",
       "      <td>26985.000000</td>\n",
       "    </tr>\n",
       "    <tr>\n",
       "      <th>mean</th>\n",
       "      <td>15.167019</td>\n",
       "      <td>278.754206</td>\n",
       "      <td>4.105021</td>\n",
       "      <td>67.808551</td>\n",
       "      <td>52.812982</td>\n",
       "    </tr>\n",
       "    <tr>\n",
       "      <th>std</th>\n",
       "      <td>8.956057</td>\n",
       "      <td>541.398504</td>\n",
       "      <td>95.666947</td>\n",
       "      <td>118.005978</td>\n",
       "      <td>84.987730</td>\n",
       "    </tr>\n",
       "    <tr>\n",
       "      <th>min</th>\n",
       "      <td>1.000000</td>\n",
       "      <td>0.000000</td>\n",
       "      <td>0.500000</td>\n",
       "      <td>0.000000</td>\n",
       "      <td>0.000000</td>\n",
       "    </tr>\n",
       "    <tr>\n",
       "      <th>25%</th>\n",
       "      <td>7.000000</td>\n",
       "      <td>40.000000</td>\n",
       "      <td>1.000000</td>\n",
       "      <td>10.000000</td>\n",
       "      <td>10.000000</td>\n",
       "    </tr>\n",
       "    <tr>\n",
       "      <th>50%</th>\n",
       "      <td>14.000000</td>\n",
       "      <td>111.000000</td>\n",
       "      <td>1.000000</td>\n",
       "      <td>30.000000</td>\n",
       "      <td>22.000000</td>\n",
       "    </tr>\n",
       "    <tr>\n",
       "      <th>75%</th>\n",
       "      <td>23.000000</td>\n",
       "      <td>280.000000</td>\n",
       "      <td>2.000000</td>\n",
       "      <td>80.000000</td>\n",
       "      <td>64.000000</td>\n",
       "    </tr>\n",
       "    <tr>\n",
       "      <th>max</th>\n",
       "      <td>31.000000</td>\n",
       "      <td>7292.000000</td>\n",
       "      <td>12000.000000</td>\n",
       "      <td>3150.000000</td>\n",
       "      <td>3150.000000</td>\n",
       "    </tr>\n",
       "  </tbody>\n",
       "</table>\n",
       "</div>"
      ],
      "text/plain": [
       "                DAY      BILL_AMT           QTY         VALUE         PRICE\n",
       "count  26985.000000  26985.000000  26985.000000  26985.000000  26985.000000\n",
       "mean      15.167019    278.754206      4.105021     67.808551     52.812982\n",
       "std        8.956057    541.398504     95.666947    118.005978     84.987730\n",
       "min        1.000000      0.000000      0.500000      0.000000      0.000000\n",
       "25%        7.000000     40.000000      1.000000     10.000000     10.000000\n",
       "50%       14.000000    111.000000      1.000000     30.000000     22.000000\n",
       "75%       23.000000    280.000000      2.000000     80.000000     64.000000\n",
       "max       31.000000   7292.000000  12000.000000   3150.000000   3150.000000"
      ]
     },
     "execution_count": 4,
     "metadata": {},
     "output_type": "execute_result"
    }
   ],
   "source": [
    "df.describe()"
   ]
  },
  {
   "cell_type": "code",
   "execution_count": 5,
   "metadata": {
    "execution": {
     "iopub.execute_input": "2024-01-08T16:25:14.888846Z",
     "iopub.status.busy": "2024-01-08T16:25:14.887918Z",
     "iopub.status.idle": "2024-01-08T16:25:15.028198Z",
     "shell.execute_reply": "2024-01-08T16:25:15.027123Z",
     "shell.execute_reply.started": "2024-01-08T16:25:14.888803Z"
    }
   },
   "outputs": [
    {
     "name": "stdout",
     "output_type": "stream",
     "text": [
      "<class 'pandas.core.frame.DataFrame'>\n",
      "RangeIndex: 26985 entries, 0 to 26984\n",
      "Data columns (total 14 columns):\n",
      " #   Column     Non-Null Count  Dtype  \n",
      "---  ------     --------------  -----  \n",
      " 0   MONTH      26985 non-null  object \n",
      " 1   STORECODE  26985 non-null  object \n",
      " 2   DAY        26985 non-null  int64  \n",
      " 3   BILL_ID    26985 non-null  object \n",
      " 4   BILL_AMT   26985 non-null  float64\n",
      " 5   QTY        26985 non-null  float64\n",
      " 6   VALUE      26985 non-null  float64\n",
      " 7   PRICE      26985 non-null  float64\n",
      " 8   GRP        26985 non-null  object \n",
      " 9   SGRP       26985 non-null  object \n",
      " 10  SSGRP      26985 non-null  object \n",
      " 11  CMP        26985 non-null  object \n",
      " 12  MBRD       26985 non-null  object \n",
      " 13  BRD        26985 non-null  object \n",
      "dtypes: float64(4), int64(1), object(9)\n",
      "memory usage: 2.9+ MB\n"
     ]
    }
   ],
   "source": [
    "df.info()"
   ]
  },
  {
   "cell_type": "code",
   "execution_count": 6,
   "metadata": {
    "execution": {
     "iopub.execute_input": "2024-01-08T16:25:45.422095Z",
     "iopub.status.busy": "2024-01-08T16:25:45.421107Z",
     "iopub.status.idle": "2024-01-08T16:25:45.451915Z",
     "shell.execute_reply": "2024-01-08T16:25:45.450394Z",
     "shell.execute_reply.started": "2024-01-08T16:25:45.422053Z"
    }
   },
   "outputs": [
    {
     "data": {
      "text/plain": [
       "MONTH        0\n",
       "STORECODE    0\n",
       "DAY          0\n",
       "BILL_ID      0\n",
       "BILL_AMT     0\n",
       "QTY          0\n",
       "VALUE        0\n",
       "PRICE        0\n",
       "GRP          0\n",
       "SGRP         0\n",
       "SSGRP        0\n",
       "CMP          0\n",
       "MBRD         0\n",
       "BRD          0\n",
       "dtype: int64"
      ]
     },
     "execution_count": 6,
     "metadata": {},
     "output_type": "execute_result"
    }
   ],
   "source": [
    "df.isnull().sum()"
   ]
  },
  {
   "cell_type": "code",
   "execution_count": 7,
   "metadata": {
    "execution": {
     "iopub.execute_input": "2024-01-08T16:27:18.477488Z",
     "iopub.status.busy": "2024-01-08T16:27:18.477079Z",
     "iopub.status.idle": "2024-01-08T16:27:18.486807Z",
     "shell.execute_reply": "2024-01-08T16:27:18.485687Z",
     "shell.execute_reply.started": "2024-01-08T16:27:18.477455Z"
    }
   },
   "outputs": [
    {
     "data": {
      "text/plain": [
       "array(['M1', 'M2', 'M3'], dtype=object)"
      ]
     },
     "execution_count": 7,
     "metadata": {},
     "output_type": "execute_result"
    }
   ],
   "source": [
    "df['MONTH'].unique()"
   ]
  },
  {
   "cell_type": "code",
   "execution_count": 8,
   "metadata": {
    "execution": {
     "iopub.execute_input": "2024-01-08T16:27:23.146156Z",
     "iopub.status.busy": "2024-01-08T16:27:23.145761Z",
     "iopub.status.idle": "2024-01-08T16:27:23.156049Z",
     "shell.execute_reply": "2024-01-08T16:27:23.154768Z",
     "shell.execute_reply.started": "2024-01-08T16:27:23.146125Z"
    }
   },
   "outputs": [
    {
     "data": {
      "text/plain": [
       "array(['N1', 'N2', 'N3', 'N4', 'N5', 'N6', 'N7', 'N8', 'N9', 'N10'],\n",
       "      dtype=object)"
      ]
     },
     "execution_count": 8,
     "metadata": {},
     "output_type": "execute_result"
    }
   ],
   "source": [
    "df['STORECODE'].unique()"
   ]
  },
  {
   "cell_type": "markdown",
   "metadata": {},
   "source": [
    "*  Sorting The Given Data:"
   ]
  },
  {
   "cell_type": "code",
   "execution_count": 9,
   "metadata": {
    "execution": {
     "iopub.execute_input": "2024-01-08T16:35:41.335890Z",
     "iopub.status.busy": "2024-01-08T16:35:41.335511Z",
     "iopub.status.idle": "2024-01-08T16:35:41.377722Z",
     "shell.execute_reply": "2024-01-08T16:35:41.376881Z",
     "shell.execute_reply.started": "2024-01-08T16:35:41.335860Z"
    }
   },
   "outputs": [
    {
     "data": {
      "text/html": [
       "<div>\n",
       "<style scoped>\n",
       "    .dataframe tbody tr th:only-of-type {\n",
       "        vertical-align: middle;\n",
       "    }\n",
       "\n",
       "    .dataframe tbody tr th {\n",
       "        vertical-align: top;\n",
       "    }\n",
       "\n",
       "    .dataframe thead th {\n",
       "        text-align: right;\n",
       "    }\n",
       "</style>\n",
       "<table border=\"1\" class=\"dataframe\">\n",
       "  <thead>\n",
       "    <tr style=\"text-align: right;\">\n",
       "      <th></th>\n",
       "      <th>MONTH</th>\n",
       "      <th>STORECODE</th>\n",
       "      <th>DAY</th>\n",
       "      <th>BILL_ID</th>\n",
       "      <th>BILL_AMT</th>\n",
       "      <th>QTY</th>\n",
       "      <th>VALUE</th>\n",
       "      <th>PRICE</th>\n",
       "      <th>GRP</th>\n",
       "      <th>SGRP</th>\n",
       "      <th>SSGRP</th>\n",
       "      <th>CMP</th>\n",
       "      <th>MBRD</th>\n",
       "      <th>BRD</th>\n",
       "    </tr>\n",
       "  </thead>\n",
       "  <tbody>\n",
       "    <tr>\n",
       "      <th>0</th>\n",
       "      <td>M1</td>\n",
       "      <td>N1</td>\n",
       "      <td>4</td>\n",
       "      <td>T375</td>\n",
       "      <td>225.0</td>\n",
       "      <td>1.0</td>\n",
       "      <td>225.0</td>\n",
       "      <td>225.0</td>\n",
       "      <td>BUTTER MARGR  (4/94)</td>\n",
       "      <td>BUTTER</td>\n",
       "      <td>SALTED</td>\n",
       "      <td>G C M M F</td>\n",
       "      <td>AMUL</td>\n",
       "      <td>AMUL</td>\n",
       "    </tr>\n",
       "    <tr>\n",
       "      <th>5583</th>\n",
       "      <td>M1</td>\n",
       "      <td>N7</td>\n",
       "      <td>7</td>\n",
       "      <td>T421</td>\n",
       "      <td>18.5</td>\n",
       "      <td>1.0</td>\n",
       "      <td>18.5</td>\n",
       "      <td>18.5</td>\n",
       "      <td>ALL IODISED SALT</td>\n",
       "      <td>POWDERED SALT</td>\n",
       "      <td>POWDERED SALT</td>\n",
       "      <td>TATA CHEM</td>\n",
       "      <td>TATA</td>\n",
       "      <td>TATA SALT</td>\n",
       "    </tr>\n",
       "    <tr>\n",
       "      <th>5582</th>\n",
       "      <td>M1</td>\n",
       "      <td>N7</td>\n",
       "      <td>5</td>\n",
       "      <td>T355</td>\n",
       "      <td>106.0</td>\n",
       "      <td>1.0</td>\n",
       "      <td>106.0</td>\n",
       "      <td>106.0</td>\n",
       "      <td>REFINED EDIBLE OILS-ALL PACKS</td>\n",
       "      <td>SUN FLOWER</td>\n",
       "      <td>SUN FLOWER</td>\n",
       "      <td>CARGILL FOODS</td>\n",
       "      <td>GEMINI</td>\n",
       "      <td>GEMINI</td>\n",
       "    </tr>\n",
       "    <tr>\n",
       "      <th>5581</th>\n",
       "      <td>M1</td>\n",
       "      <td>N7</td>\n",
       "      <td>5</td>\n",
       "      <td>T354</td>\n",
       "      <td>20.0</td>\n",
       "      <td>1.0</td>\n",
       "      <td>20.0</td>\n",
       "      <td>20.0</td>\n",
       "      <td>PACKAGED ATTA (1/95)</td>\n",
       "      <td>MAIDA</td>\n",
       "      <td>MAIDA</td>\n",
       "      <td>PARAKH AGRO IND</td>\n",
       "      <td>SAMRAT</td>\n",
       "      <td>SAMRAT</td>\n",
       "    </tr>\n",
       "    <tr>\n",
       "      <th>5580</th>\n",
       "      <td>M1</td>\n",
       "      <td>N7</td>\n",
       "      <td>5</td>\n",
       "      <td>T353</td>\n",
       "      <td>106.0</td>\n",
       "      <td>1.0</td>\n",
       "      <td>106.0</td>\n",
       "      <td>106.0</td>\n",
       "      <td>REFINED EDIBLE OILS-ALL PACKS</td>\n",
       "      <td>SUN FLOWER</td>\n",
       "      <td>SUN FLOWER</td>\n",
       "      <td>CARGILL FOODS</td>\n",
       "      <td>GEMINI</td>\n",
       "      <td>GEMINI</td>\n",
       "    </tr>\n",
       "    <tr>\n",
       "      <th>...</th>\n",
       "      <td>...</td>\n",
       "      <td>...</td>\n",
       "      <td>...</td>\n",
       "      <td>...</td>\n",
       "      <td>...</td>\n",
       "      <td>...</td>\n",
       "      <td>...</td>\n",
       "      <td>...</td>\n",
       "      <td>...</td>\n",
       "      <td>...</td>\n",
       "      <td>...</td>\n",
       "      <td>...</td>\n",
       "      <td>...</td>\n",
       "      <td>...</td>\n",
       "    </tr>\n",
       "    <tr>\n",
       "      <th>16532</th>\n",
       "      <td>M3</td>\n",
       "      <td>N1</td>\n",
       "      <td>13</td>\n",
       "      <td>T7794</td>\n",
       "      <td>797.6</td>\n",
       "      <td>1.0</td>\n",
       "      <td>15.0</td>\n",
       "      <td>15.0</td>\n",
       "      <td>BISCUITS - CORE &amp; NON CORE</td>\n",
       "      <td>SALT CRACKER</td>\n",
       "      <td>SALT CRACKER</td>\n",
       "      <td>BRITANNIA INDS</td>\n",
       "      <td>NUTRICHOICE</td>\n",
       "      <td>NUTRICHOICE SIMPLE LITE CRACKR</td>\n",
       "    </tr>\n",
       "    <tr>\n",
       "      <th>16531</th>\n",
       "      <td>M3</td>\n",
       "      <td>N1</td>\n",
       "      <td>13</td>\n",
       "      <td>T7794</td>\n",
       "      <td>797.6</td>\n",
       "      <td>1.0</td>\n",
       "      <td>10.0</td>\n",
       "      <td>10.0</td>\n",
       "      <td>BISCUITS - CORE &amp; NON CORE</td>\n",
       "      <td>SWEET/COOKIES</td>\n",
       "      <td>SWEET/COOKIES</td>\n",
       "      <td>BRITANNIA INDS</td>\n",
       "      <td>GOOD DAY</td>\n",
       "      <td>GOOD DAY CHOCOLATE</td>\n",
       "    </tr>\n",
       "    <tr>\n",
       "      <th>16530</th>\n",
       "      <td>M3</td>\n",
       "      <td>N1</td>\n",
       "      <td>13</td>\n",
       "      <td>T7794</td>\n",
       "      <td>797.6</td>\n",
       "      <td>1.0</td>\n",
       "      <td>20.0</td>\n",
       "      <td>20.0</td>\n",
       "      <td>KETCHUPS/SAUCES</td>\n",
       "      <td>KETCHUPS/SAUCES</td>\n",
       "      <td>KETCHUPS/SAUCES</td>\n",
       "      <td>CAPITAL FOODS</td>\n",
       "      <td>CHING'S SECRET</td>\n",
       "      <td>CHING'S SECRET</td>\n",
       "    </tr>\n",
       "    <tr>\n",
       "      <th>16546</th>\n",
       "      <td>M3</td>\n",
       "      <td>N1</td>\n",
       "      <td>13</td>\n",
       "      <td>T7794</td>\n",
       "      <td>797.6</td>\n",
       "      <td>1.0</td>\n",
       "      <td>5.0</td>\n",
       "      <td>5.0</td>\n",
       "      <td>CHOCOLATE</td>\n",
       "      <td>SUGAR PANNED</td>\n",
       "      <td>SUGAR PANNED</td>\n",
       "      <td>MONDELEZ INTERNATIONAL</td>\n",
       "      <td>GEMS</td>\n",
       "      <td>GEMS</td>\n",
       "    </tr>\n",
       "    <tr>\n",
       "      <th>26984</th>\n",
       "      <td>M3</td>\n",
       "      <td>N10</td>\n",
       "      <td>31</td>\n",
       "      <td>T6013</td>\n",
       "      <td>15.0</td>\n",
       "      <td>1.0</td>\n",
       "      <td>15.0</td>\n",
       "      <td>15.0</td>\n",
       "      <td>BISCUITS - CORE &amp; NON CORE</td>\n",
       "      <td>SWEET/COOKIES</td>\n",
       "      <td>SWEET/COOKIES</td>\n",
       "      <td>SAJ INDS</td>\n",
       "      <td>BISK FARM</td>\n",
       "      <td>BISK FARM JUST GINGER</td>\n",
       "    </tr>\n",
       "  </tbody>\n",
       "</table>\n",
       "<p>26985 rows × 14 columns</p>\n",
       "</div>"
      ],
      "text/plain": [
       "      MONTH STORECODE  DAY BILL_ID  BILL_AMT  QTY  VALUE  PRICE  \\\n",
       "0        M1        N1    4    T375     225.0  1.0  225.0  225.0   \n",
       "5583     M1        N7    7    T421      18.5  1.0   18.5   18.5   \n",
       "5582     M1        N7    5    T355     106.0  1.0  106.0  106.0   \n",
       "5581     M1        N7    5    T354      20.0  1.0   20.0   20.0   \n",
       "5580     M1        N7    5    T353     106.0  1.0  106.0  106.0   \n",
       "...     ...       ...  ...     ...       ...  ...    ...    ...   \n",
       "16532    M3        N1   13   T7794     797.6  1.0   15.0   15.0   \n",
       "16531    M3        N1   13   T7794     797.6  1.0   10.0   10.0   \n",
       "16530    M3        N1   13   T7794     797.6  1.0   20.0   20.0   \n",
       "16546    M3        N1   13   T7794     797.6  1.0    5.0    5.0   \n",
       "26984    M3       N10   31   T6013      15.0  1.0   15.0   15.0   \n",
       "\n",
       "                                 GRP             SGRP            SSGRP  \\\n",
       "0               BUTTER MARGR  (4/94)           BUTTER           SALTED   \n",
       "5583                ALL IODISED SALT    POWDERED SALT    POWDERED SALT   \n",
       "5582   REFINED EDIBLE OILS-ALL PACKS       SUN FLOWER       SUN FLOWER   \n",
       "5581            PACKAGED ATTA (1/95)            MAIDA            MAIDA   \n",
       "5580   REFINED EDIBLE OILS-ALL PACKS       SUN FLOWER       SUN FLOWER   \n",
       "...                              ...              ...              ...   \n",
       "16532     BISCUITS - CORE & NON CORE     SALT CRACKER     SALT CRACKER   \n",
       "16531     BISCUITS - CORE & NON CORE    SWEET/COOKIES    SWEET/COOKIES   \n",
       "16530                KETCHUPS/SAUCES  KETCHUPS/SAUCES  KETCHUPS/SAUCES   \n",
       "16546                      CHOCOLATE     SUGAR PANNED     SUGAR PANNED   \n",
       "26984     BISCUITS - CORE & NON CORE    SWEET/COOKIES    SWEET/COOKIES   \n",
       "\n",
       "                          CMP            MBRD                             BRD  \n",
       "0                   G C M M F            AMUL                            AMUL  \n",
       "5583                TATA CHEM            TATA                       TATA SALT  \n",
       "5582            CARGILL FOODS          GEMINI                          GEMINI  \n",
       "5581          PARAKH AGRO IND          SAMRAT                          SAMRAT  \n",
       "5580            CARGILL FOODS          GEMINI                          GEMINI  \n",
       "...                       ...             ...                             ...  \n",
       "16532          BRITANNIA INDS     NUTRICHOICE  NUTRICHOICE SIMPLE LITE CRACKR  \n",
       "16531          BRITANNIA INDS        GOOD DAY              GOOD DAY CHOCOLATE  \n",
       "16530           CAPITAL FOODS  CHING'S SECRET                  CHING'S SECRET  \n",
       "16546  MONDELEZ INTERNATIONAL            GEMS                            GEMS  \n",
       "26984                SAJ INDS       BISK FARM           BISK FARM JUST GINGER  \n",
       "\n",
       "[26985 rows x 14 columns]"
      ]
     },
     "execution_count": 9,
     "metadata": {},
     "output_type": "execute_result"
    }
   ],
   "source": [
    "df.sort_values(by='MONTH')"
   ]
  },
  {
   "cell_type": "markdown",
   "metadata": {},
   "source": [
    "#   Mean ,Median,Mode ( Represents the VALUE column )"
   ]
  },
  {
   "cell_type": "code",
   "execution_count": 10,
   "metadata": {
    "execution": {
     "iopub.execute_input": "2024-01-08T16:32:54.988818Z",
     "iopub.status.busy": "2024-01-08T16:32:54.988258Z",
     "iopub.status.idle": "2024-01-08T16:32:55.002564Z",
     "shell.execute_reply": "2024-01-08T16:32:55.000662Z",
     "shell.execute_reply.started": "2024-01-08T16:32:54.988774Z"
    }
   },
   "outputs": [
    {
     "data": {
      "text/plain": [
       "67.80855104687788"
      ]
     },
     "execution_count": 10,
     "metadata": {},
     "output_type": "execute_result"
    }
   ],
   "source": [
    "df['VALUE'].mean()\n"
   ]
  },
  {
   "cell_type": "code",
   "execution_count": 11,
   "metadata": {
    "execution": {
     "iopub.execute_input": "2024-01-08T16:33:05.131306Z",
     "iopub.status.busy": "2024-01-08T16:33:05.130781Z",
     "iopub.status.idle": "2024-01-08T16:33:05.140994Z",
     "shell.execute_reply": "2024-01-08T16:33:05.139557Z",
     "shell.execute_reply.started": "2024-01-08T16:33:05.131264Z"
    }
   },
   "outputs": [
    {
     "data": {
      "text/plain": [
       "30.0"
      ]
     },
     "execution_count": 11,
     "metadata": {},
     "output_type": "execute_result"
    }
   ],
   "source": [
    "df['VALUE'].median()"
   ]
  },
  {
   "cell_type": "code",
   "execution_count": 12,
   "metadata": {
    "execution": {
     "iopub.execute_input": "2024-01-08T16:33:10.514388Z",
     "iopub.status.busy": "2024-01-08T16:33:10.513950Z",
     "iopub.status.idle": "2024-01-08T16:33:10.524181Z",
     "shell.execute_reply": "2024-01-08T16:33:10.523322Z",
     "shell.execute_reply.started": "2024-01-08T16:33:10.514353Z"
    }
   },
   "outputs": [
    {
     "data": {
      "text/plain": [
       "0    10.0\n",
       "Name: VALUE, dtype: float64"
      ]
     },
     "execution_count": 12,
     "metadata": {},
     "output_type": "execute_result"
    }
   ],
   "source": [
    "df['VALUE'].mode()"
   ]
  },
  {
   "cell_type": "markdown",
   "metadata": {},
   "source": [
    "# Data Visualization"
   ]
  },
  {
   "cell_type": "code",
   "execution_count": 14,
   "metadata": {
    "execution": {
     "iopub.execute_input": "2024-01-08T16:41:04.934197Z",
     "iopub.status.busy": "2024-01-08T16:41:04.933059Z",
     "iopub.status.idle": "2024-01-08T16:41:04.948461Z",
     "shell.execute_reply": "2024-01-08T16:41:04.947295Z",
     "shell.execute_reply.started": "2024-01-08T16:41:04.934128Z"
    }
   },
   "outputs": [
    {
     "name": "stdout",
     "output_type": "stream",
     "text": [
      "(26985, 14)\n"
     ]
    },
    {
     "data": {
      "text/plain": [
       "MONTH\n",
       "M3    9430\n",
       "M2    9192\n",
       "M1    8363\n",
       "Name: count, dtype: int64"
      ]
     },
     "execution_count": 14,
     "metadata": {},
     "output_type": "execute_result"
    }
   ],
   "source": [
    "print(df.shape)\n",
    "df['MONTH'].value_counts()"
   ]
  },
  {
   "cell_type": "code",
   "execution_count": 15,
   "metadata": {
    "execution": {
     "iopub.execute_input": "2024-01-08T17:01:05.926543Z",
     "iopub.status.busy": "2024-01-08T17:01:05.926091Z",
     "iopub.status.idle": "2024-01-08T17:01:05.938220Z",
     "shell.execute_reply": "2024-01-08T17:01:05.937191Z",
     "shell.execute_reply.started": "2024-01-08T17:01:05.926505Z"
    }
   },
   "outputs": [
    {
     "name": "stdout",
     "output_type": "stream",
     "text": [
      "(26985, 14)\n"
     ]
    },
    {
     "data": {
      "text/plain": [
       "STORECODE\n",
       "N7     5625\n",
       "N1     4583\n",
       "N5     4431\n",
       "N4     3212\n",
       "N10    2169\n",
       "N3     1793\n",
       "N9     1528\n",
       "N2     1331\n",
       "N6     1185\n",
       "N8     1128\n",
       "Name: count, dtype: int64"
      ]
     },
     "execution_count": 15,
     "metadata": {},
     "output_type": "execute_result"
    }
   ],
   "source": [
    "print(df.shape)\n",
    "df['STORECODE'].value_counts()"
   ]
  },
  {
   "cell_type": "markdown",
   "metadata": {},
   "source": [
    "* Below Graph Describes The Sales Based On The Transaction Of 3 Months  (M1,M2,M3)"
   ]
  },
  {
   "cell_type": "code",
   "execution_count": 16,
   "metadata": {
    "execution": {
     "iopub.execute_input": "2024-01-08T16:38:15.509258Z",
     "iopub.status.busy": "2024-01-08T16:38:15.508817Z",
     "iopub.status.idle": "2024-01-08T16:38:16.086533Z",
     "shell.execute_reply": "2024-01-08T16:38:16.085505Z",
     "shell.execute_reply.started": "2024-01-08T16:38:15.509220Z"
    }
   },
   "outputs": [
    {
     "data": {
      "text/plain": [
       "<Axes: xlabel='MONTH', ylabel='VALUE'>"
      ]
     },
     "execution_count": 16,
     "metadata": {},
     "output_type": "execute_result"
    },
    {
     "data": {
      "image/png": "[encoded data removed]",
      "text/plain": [
       "<Figure size 1200x600 with 1 Axes>"
      ]
     },
     "metadata": {},
     "output_type": "display_data"
    }
   ],
   "source": [
    "\n",
    "plt.figure(figsize = (12,6))\n",
    "sns.barplot(x = 'MONTH',y='VALUE',data=df)"
   ]
  },
  {
   "cell_type": "markdown",
   "metadata": {},
   "source": [
    "* By Visualizing The Graph We Can Conclude That Month 3 Has More Transactions Than The Remaining."
   ]
  },
  {
   "cell_type": "markdown",
   "metadata": {},
   "source": [
    "> Creating Dummies For Month Column For Getting Numeric Data For Seaborn Bar Plot"
   ]
  },
  {
   "cell_type": "code",
   "execution_count": 17,
   "metadata": {
    "execution": {
     "iopub.execute_input": "2024-01-08T16:52:07.118696Z",
     "iopub.status.busy": "2024-01-08T16:52:07.117576Z",
     "iopub.status.idle": "2024-01-08T16:52:07.137386Z",
     "shell.execute_reply": "2024-01-08T16:52:07.135953Z",
     "shell.execute_reply.started": "2024-01-08T16:52:07.118647Z"
    }
   },
   "outputs": [
    {
     "data": {
      "text/html": [
       "<div>\n",
       "<style scoped>\n",
       "    .dataframe tbody tr th:only-of-type {\n",
       "        vertical-align: middle;\n",
       "    }\n",
       "\n",
       "    .dataframe tbody tr th {\n",
       "        vertical-align: top;\n",
       "    }\n",
       "\n",
       "    .dataframe thead th {\n",
       "        text-align: right;\n",
       "    }\n",
       "</style>\n",
       "<table border=\"1\" class=\"dataframe\">\n",
       "  <thead>\n",
       "    <tr style=\"text-align: right;\">\n",
       "      <th></th>\n",
       "      <th>M1</th>\n",
       "      <th>M2</th>\n",
       "      <th>M3</th>\n",
       "    </tr>\n",
       "  </thead>\n",
       "  <tbody>\n",
       "    <tr>\n",
       "      <th>0</th>\n",
       "      <td>True</td>\n",
       "      <td>False</td>\n",
       "      <td>False</td>\n",
       "    </tr>\n",
       "    <tr>\n",
       "      <th>1</th>\n",
       "      <td>True</td>\n",
       "      <td>False</td>\n",
       "      <td>False</td>\n",
       "    </tr>\n",
       "    <tr>\n",
       "      <th>2</th>\n",
       "      <td>True</td>\n",
       "      <td>False</td>\n",
       "      <td>False</td>\n",
       "    </tr>\n",
       "    <tr>\n",
       "      <th>3</th>\n",
       "      <td>True</td>\n",
       "      <td>False</td>\n",
       "      <td>False</td>\n",
       "    </tr>\n",
       "    <tr>\n",
       "      <th>4</th>\n",
       "      <td>True</td>\n",
       "      <td>False</td>\n",
       "      <td>False</td>\n",
       "    </tr>\n",
       "  </tbody>\n",
       "</table>\n",
       "</div>"
      ],
      "text/plain": [
       "     M1     M2     M3\n",
       "0  True  False  False\n",
       "1  True  False  False\n",
       "2  True  False  False\n",
       "3  True  False  False\n",
       "4  True  False  False"
      ]
     },
     "execution_count": 17,
     "metadata": {},
     "output_type": "execute_result"
    }
   ],
   "source": [
    "month_dummies =pd.get_dummies(df['MONTH'])\n",
    "month_dummies.head()"
   ]
  },
  {
   "cell_type": "markdown",
   "metadata": {},
   "source": [
    "> Joining Original dataframe(df) With month dummies dataframe (month_dummies)"
   ]
  },
  {
   "cell_type": "code",
   "execution_count": 18,
   "metadata": {
    "execution": {
     "iopub.execute_input": "2024-01-08T16:55:34.870865Z",
     "iopub.status.busy": "2024-01-08T16:55:34.870423Z",
     "iopub.status.idle": "2024-01-08T16:55:34.893221Z",
     "shell.execute_reply": "2024-01-08T16:55:34.892029Z",
     "shell.execute_reply.started": "2024-01-08T16:55:34.870808Z"
    }
   },
   "outputs": [
    {
     "data": {
      "text/html": [
       "<div>\n",
       "<style scoped>\n",
       "    .dataframe tbody tr th:only-of-type {\n",
       "        vertical-align: middle;\n",
       "    }\n",
       "\n",
       "    .dataframe tbody tr th {\n",
       "        vertical-align: top;\n",
       "    }\n",
       "\n",
       "    .dataframe thead th {\n",
       "        text-align: right;\n",
       "    }\n",
       "</style>\n",
       "<table border=\"1\" class=\"dataframe\">\n",
       "  <thead>\n",
       "    <tr style=\"text-align: right;\">\n",
       "      <th></th>\n",
       "      <th>MONTH</th>\n",
       "      <th>STORECODE</th>\n",
       "      <th>DAY</th>\n",
       "      <th>BILL_ID</th>\n",
       "      <th>BILL_AMT</th>\n",
       "      <th>QTY</th>\n",
       "      <th>VALUE</th>\n",
       "      <th>PRICE</th>\n",
       "      <th>GRP</th>\n",
       "      <th>SGRP</th>\n",
       "      <th>SSGRP</th>\n",
       "      <th>CMP</th>\n",
       "      <th>MBRD</th>\n",
       "      <th>BRD</th>\n",
       "      <th>M1</th>\n",
       "      <th>M2</th>\n",
       "      <th>M3</th>\n",
       "    </tr>\n",
       "  </thead>\n",
       "  <tbody>\n",
       "    <tr>\n",
       "      <th>0</th>\n",
       "      <td>M1</td>\n",
       "      <td>N1</td>\n",
       "      <td>4</td>\n",
       "      <td>T375</td>\n",
       "      <td>225.0</td>\n",
       "      <td>1.0</td>\n",
       "      <td>225.0</td>\n",
       "      <td>225.0</td>\n",
       "      <td>BUTTER MARGR  (4/94)</td>\n",
       "      <td>BUTTER</td>\n",
       "      <td>SALTED</td>\n",
       "      <td>G C M M F</td>\n",
       "      <td>AMUL</td>\n",
       "      <td>AMUL</td>\n",
       "      <td>True</td>\n",
       "      <td>False</td>\n",
       "      <td>False</td>\n",
       "    </tr>\n",
       "    <tr>\n",
       "      <th>1</th>\n",
       "      <td>M1</td>\n",
       "      <td>N1</td>\n",
       "      <td>4</td>\n",
       "      <td>T379</td>\n",
       "      <td>95.0</td>\n",
       "      <td>1.0</td>\n",
       "      <td>95.0</td>\n",
       "      <td>95.0</td>\n",
       "      <td>CONFECTIONERY - ECLAIRS</td>\n",
       "      <td>CONFECTIONERY - ECLAIRS</td>\n",
       "      <td>CONFECTIONERY - ECLAIRS</td>\n",
       "      <td>PARLE PRODS</td>\n",
       "      <td>MELODY</td>\n",
       "      <td>MELODY CHOCOLATY</td>\n",
       "      <td>True</td>\n",
       "      <td>False</td>\n",
       "      <td>False</td>\n",
       "    </tr>\n",
       "    <tr>\n",
       "      <th>2</th>\n",
       "      <td>M1</td>\n",
       "      <td>N1</td>\n",
       "      <td>4</td>\n",
       "      <td>T381</td>\n",
       "      <td>10.0</td>\n",
       "      <td>1.0</td>\n",
       "      <td>10.0</td>\n",
       "      <td>10.0</td>\n",
       "      <td>CHOCOLATE</td>\n",
       "      <td>CHOCOLATE PANNED</td>\n",
       "      <td>CHOCOLATE PANNED</td>\n",
       "      <td>MONDELEZ INTERNATIONAL</td>\n",
       "      <td>CADBURY SHOTS</td>\n",
       "      <td>CADBURY SHOTS</td>\n",
       "      <td>True</td>\n",
       "      <td>False</td>\n",
       "      <td>False</td>\n",
       "    </tr>\n",
       "    <tr>\n",
       "      <th>3</th>\n",
       "      <td>M1</td>\n",
       "      <td>N1</td>\n",
       "      <td>4</td>\n",
       "      <td>T382</td>\n",
       "      <td>108.0</td>\n",
       "      <td>1.0</td>\n",
       "      <td>108.0</td>\n",
       "      <td>108.0</td>\n",
       "      <td>PACKAGED TEA</td>\n",
       "      <td>MAIN PACKS</td>\n",
       "      <td>MAIN PACKS</td>\n",
       "      <td>GUJ TEA PROCESSORS</td>\n",
       "      <td>WAGH BAKRI</td>\n",
       "      <td>WAGH BAKRI INSTANT</td>\n",
       "      <td>True</td>\n",
       "      <td>False</td>\n",
       "      <td>False</td>\n",
       "    </tr>\n",
       "    <tr>\n",
       "      <th>4</th>\n",
       "      <td>M1</td>\n",
       "      <td>N1</td>\n",
       "      <td>4</td>\n",
       "      <td>T384</td>\n",
       "      <td>19.0</td>\n",
       "      <td>1.0</td>\n",
       "      <td>19.0</td>\n",
       "      <td>19.0</td>\n",
       "      <td>ALL IODISED SALT</td>\n",
       "      <td>POWDERED SALT</td>\n",
       "      <td>POWDERED SALT</td>\n",
       "      <td>TATA CHEM</td>\n",
       "      <td>TATA</td>\n",
       "      <td>TATA SALT</td>\n",
       "      <td>True</td>\n",
       "      <td>False</td>\n",
       "      <td>False</td>\n",
       "    </tr>\n",
       "  </tbody>\n",
       "</table>\n",
       "</div>"
      ],
      "text/plain": [
       "  MONTH STORECODE  DAY BILL_ID  BILL_AMT  QTY  VALUE  PRICE  \\\n",
       "0    M1        N1    4    T375     225.0  1.0  225.0  225.0   \n",
       "1    M1        N1    4    T379      95.0  1.0   95.0   95.0   \n",
       "2    M1        N1    4    T381      10.0  1.0   10.0   10.0   \n",
       "3    M1        N1    4    T382     108.0  1.0  108.0  108.0   \n",
       "4    M1        N1    4    T384      19.0  1.0   19.0   19.0   \n",
       "\n",
       "                       GRP                     SGRP                    SSGRP  \\\n",
       "0     BUTTER MARGR  (4/94)                   BUTTER                   SALTED   \n",
       "1  CONFECTIONERY - ECLAIRS  CONFECTIONERY - ECLAIRS  CONFECTIONERY - ECLAIRS   \n",
       "2                CHOCOLATE         CHOCOLATE PANNED         CHOCOLATE PANNED   \n",
       "3             PACKAGED TEA               MAIN PACKS               MAIN PACKS   \n",
       "4         ALL IODISED SALT            POWDERED SALT            POWDERED SALT   \n",
       "\n",
       "                      CMP           MBRD                 BRD    M1     M2  \\\n",
       "0               G C M M F           AMUL                AMUL  True  False   \n",
       "1             PARLE PRODS         MELODY    MELODY CHOCOLATY  True  False   \n",
       "2  MONDELEZ INTERNATIONAL  CADBURY SHOTS       CADBURY SHOTS  True  False   \n",
       "3      GUJ TEA PROCESSORS     WAGH BAKRI  WAGH BAKRI INSTANT  True  False   \n",
       "4               TATA CHEM           TATA           TATA SALT  True  False   \n",
       "\n",
       "      M3  \n",
       "0  False  \n",
       "1  False  \n",
       "2  False  \n",
       "3  False  \n",
       "4  False  "
      ]
     },
     "execution_count": 18,
     "metadata": {},
     "output_type": "execute_result"
    }
   ],
   "source": [
    "df=pd.concat([df,month_dummies],axis=1)\n",
    "df.head()"
   ]
  },
  {
   "cell_type": "code",
   "execution_count": 19,
   "metadata": {
    "execution": {
     "iopub.execute_input": "2024-01-08T16:57:07.478555Z",
     "iopub.status.busy": "2024-01-08T16:57:07.478099Z",
     "iopub.status.idle": "2024-01-08T16:57:08.198772Z",
     "shell.execute_reply": "2024-01-08T16:57:08.197495Z",
     "shell.execute_reply.started": "2024-01-08T16:57:07.478521Z"
    }
   },
   "outputs": [
    {
     "data": {
      "text/plain": [
       "<Axes: >"
      ]
     },
     "execution_count": 19,
     "metadata": {},
     "output_type": "execute_result"
    },
    {
     "data": {
      "image/png": "[encoded data removed]",
      "text/plain": [
       "<Figure size 640x480 with 1 Axes>"
      ]
     },
     "metadata": {},
     "output_type": "display_data"
    }
   ],
   "source": [
    "df.plot()"
   ]
  },
  {
   "cell_type": "markdown",
   "metadata": {},
   "source": [
    "* Above Graph Shows The Mapping Between Quantity and value For The Product."
   ]
  },
  {
   "cell_type": "markdown",
   "metadata": {},
   "source": [
    "> Plotting The Each Store With Quantity."
   ]
  },
  {
   "cell_type": "code",
   "execution_count": 20,
   "metadata": {
    "execution": {
     "iopub.execute_input": "2024-01-08T17:04:55.053679Z",
     "iopub.status.busy": "2024-01-08T17:04:55.053271Z",
     "iopub.status.idle": "2024-01-08T17:04:55.912358Z",
     "shell.execute_reply": "2024-01-08T17:04:55.911291Z",
     "shell.execute_reply.started": "2024-01-08T17:04:55.053647Z"
    }
   },
   "outputs": [
    {
     "data": {
      "text/plain": [
       "<Axes: xlabel='STORECODE', ylabel='QTY'>"
      ]
     },
     "execution_count": 20,
     "metadata": {},
     "output_type": "execute_result"
    },
    {
     "data": {
      "image/png": "[encoded data removed]",
      "text/plain": [
       "<Figure size 1200x600 with 1 Axes>"
      ]
     },
     "metadata": {},
     "output_type": "display_data"
    }
   ],
   "source": [
    "plt.figure(figsize = (12,6))\n",
    "sns.barplot(x = 'STORECODE',y='QTY',data=df)"
   ]
  },
  {
   "cell_type": "markdown",
   "metadata": {},
   "source": [
    "> Plotting The Each Store With Value."
   ]
  },
  {
   "cell_type": "code",
   "execution_count": 21,
   "metadata": {
    "execution": {
     "iopub.execute_input": "2024-01-08T17:08:45.745516Z",
     "iopub.status.busy": "2024-01-08T17:08:45.745085Z",
     "iopub.status.idle": "2024-01-08T17:08:46.618169Z",
     "shell.execute_reply": "2024-01-08T17:08:46.617009Z",
     "shell.execute_reply.started": "2024-01-08T17:08:45.745483Z"
    }
   },
   "outputs": [
    {
     "data": {
      "text/plain": [
       "<Axes: xlabel='STORECODE', ylabel='VALUE'>"
      ]
     },
     "execution_count": 21,
     "metadata": {},
     "output_type": "execute_result"
    },
    {
     "data": {
      "image/png": "[encoded data removed]",
      "text/plain": [
       "<Figure size 1200x600 with 1 Axes>"
      ]
     },
     "metadata": {},
     "output_type": "display_data"
    }
   ],
   "source": [
    "plt.figure(figsize = (12,6))\n",
    "sns.barplot(x = 'STORECODE',y='VALUE',data=df)"
   ]
  },
  {
   "cell_type": "code",
   "execution_count": 22,
   "metadata": {
    "execution": {
     "iopub.execute_input": "2024-01-08T17:16:49.628356Z",
     "iopub.status.busy": "2024-01-08T17:16:49.627862Z",
     "iopub.status.idle": "2024-01-08T17:16:53.674927Z",
     "shell.execute_reply": "2024-01-08T17:16:53.673942Z",
     "shell.execute_reply.started": "2024-01-08T17:16:49.628319Z"
    }
   },
   "outputs": [
    {
     "data": {
      "text/plain": [
       "<Axes: xlabel='GRP', ylabel='QTY'>"
      ]
     },
     "execution_count": 22,
     "metadata": {},
     "output_type": "execute_result"
    },
    {
     "data": {
      "image/png": "[encoded data removed]",
      "text/plain": [
       "<Figure size 1200x600 with 1 Axes>"
      ]
     },
     "metadata": {},
     "output_type": "display_data"
    }
   ],
   "source": [
    "plt.figure(figsize = (12,6))\n",
    "sns.barplot(x = 'GRP',y='QTY',data=df)"
   ]
  },
  {
   "cell_type": "code",
   "execution_count": 23,
   "metadata": {
    "execution": {
     "iopub.execute_input": "2024-01-08T17:16:57.912928Z",
     "iopub.status.busy": "2024-01-08T17:16:57.912544Z",
     "iopub.status.idle": "2024-01-08T17:17:02.013522Z",
     "shell.execute_reply": "2024-01-08T17:17:02.012312Z",
     "shell.execute_reply.started": "2024-01-08T17:16:57.912898Z"
    }
   },
   "outputs": [
    {
     "data": {
      "text/plain": [
       "<Axes: xlabel='GRP', ylabel='VALUE'>"
      ]
     },
     "execution_count": 23,
     "metadata": {},
     "output_type": "execute_result"
    },
    {
     "data": {
      "image/png": "[encoded data removed]",
      "text/plain": [
       "<Figure size 1200x600 with 1 Axes>"
      ]
     },
     "metadata": {},
     "output_type": "display_data"
    }
   ],
   "source": [
    "plt.figure(figsize = (12,6))\n",
    "sns.barplot(x = 'GRP',y='VALUE',data=df)"
   ]
  },
  {
   "cell_type": "markdown",
   "metadata": {},
   "source": [
    "#  Exploring Quantity Column"
   ]
  },
  {
   "cell_type": "code",
   "execution_count": 22,
   "metadata": {
    "execution": {
     "iopub.execute_input": "2024-01-08T17:28:11.414065Z",
     "iopub.status.busy": "2024-01-08T17:28:11.413670Z",
     "iopub.status.idle": "2024-01-08T17:28:11.798436Z",
     "shell.execute_reply": "2024-01-08T17:28:11.797233Z",
     "shell.execute_reply.started": "2024-01-08T17:28:11.414034Z"
    }
   },
   "outputs": [
    {
     "data": {
      "text/plain": [
       "([<matplotlib.axis.XTick at 0x107d1e9eb10>,\n",
       "  <matplotlib.axis.XTick at 0x107d1e55750>,\n",
       "  <matplotlib.axis.XTick at 0x107d21f19d0>,\n",
       "  <matplotlib.axis.XTick at 0x107d27bd910>,\n",
       "  <matplotlib.axis.XTick at 0x107d27bf590>,\n",
       "  <matplotlib.axis.XTick at 0x107d27c1610>,\n",
       "  <matplotlib.axis.XTick at 0x107d27c1cd0>,\n",
       "  <matplotlib.axis.XTick at 0x107d27cd790>,\n",
       "  <matplotlib.axis.XTick at 0x107d27cf890>,\n",
       "  <matplotlib.axis.XTick at 0x107d27bff90>],\n",
       " [Text(1, 0, 'N2'),\n",
       "  Text(2, 0, 'N3'),\n",
       "  Text(3, 0, 'N4'),\n",
       "  Text(4, 0, 'N5'),\n",
       "  Text(5, 0, 'N6'),\n",
       "  Text(6, 0, 'N7'),\n",
       "  Text(7, 0, 'N8'),\n",
       "  Text(8, 0, 'N9'),\n",
       "  Text(9, 0, 'N10'),\n",
       "  Text(10, 0, '')])"
      ]
     },
     "execution_count": 22,
     "metadata": {},
     "output_type": "execute_result"
    },
    {
     "data": {
      "image/png": "[encoded data removed]",
      "text/plain": [
       "<Figure size 1200x600 with 1 Axes>"
      ]
     },
     "metadata": {},
     "output_type": "display_data"
    }
   ],
   "source": [
    "xdata = [1,2,3,4,5,6,7,8,9,10]\n",
    "plt.figure(figsize = (12,6))\n",
    "sns.histplot(df['STORECODE'])\n",
    "plt.xticks(xdata)"
   ]
  },
  {
   "cell_type": "markdown",
   "metadata": {},
   "source": [
    "* This Graph shows That , Most Of The Customers Buy In The Store 1, 7."
   ]
  },
  {
   "cell_type": "code",
   "execution_count": 24,
   "metadata": {
    "execution": {
     "iopub.execute_input": "2024-01-08T17:28:34.676703Z",
     "iopub.status.busy": "2024-01-08T17:28:34.675521Z",
     "iopub.status.idle": "2024-01-08T17:28:35.965739Z",
     "shell.execute_reply": "2024-01-08T17:28:35.964579Z",
     "shell.execute_reply.started": "2024-01-08T17:28:34.676655Z"
    }
   },
   "outputs": [
    {
     "data": {
      "text/plain": [
       "([<matplotlib.axis.XTick at 0x1b2b9307d10>,\n",
       "  <matplotlib.axis.XTick at 0x1b2b8e3cf90>,\n",
       "  <matplotlib.axis.XTick at 0x1b2a949b990>,\n",
       "  <matplotlib.axis.XTick at 0x1b2f1375550>,\n",
       "  <matplotlib.axis.XTick at 0x1b2fffb3b50>,\n",
       "  <matplotlib.axis.XTick at 0x1b30041d250>,\n",
       "  <matplotlib.axis.XTick at 0x1b30041df50>,\n",
       "  <matplotlib.axis.XTick at 0x1b3004211d0>,\n",
       "  <matplotlib.axis.XTick at 0x1b300423410>,\n",
       "  <matplotlib.axis.XTick at 0x1b2fff93a90>],\n",
       " [Text(1, 0, '1'),\n",
       "  Text(2, 0, '2'),\n",
       "  Text(3, 0, '3'),\n",
       "  Text(4, 0, '4'),\n",
       "  Text(5, 0, '5'),\n",
       "  Text(6, 0, '6'),\n",
       "  Text(7, 0, '7'),\n",
       "  Text(8, 0, '8'),\n",
       "  Text(9, 0, '9'),\n",
       "  Text(10, 0, '10')])"
      ]
     },
     "execution_count": 24,
     "metadata": {},
     "output_type": "execute_result"
    },
    {
     "data": {
      "image/png": "[encoded data removed]",
      "text/plain": [
       "<Figure size 1200x600 with 1 Axes>"
      ]
     },
     "metadata": {},
     "output_type": "display_data"
    }
   ],
   "source": [
    "xdata = [1,2,3,4,5,6,7,8,9,10]\n",
    "plt.figure(figsize = (12,6))\n",
    "sns.histplot(df['QTY'])\n",
    "plt.xticks(xdata)"
   ]
  },
  {
   "cell_type": "markdown",
   "metadata": {},
   "source": [
    "* This Mapping Represents Most Of The Customers Buy The Products  Between 0 and 1."
   ]
  },
  {
   "cell_type": "markdown",
   "metadata": {},
   "source": [
    "# Count:"
   ]
  },
  {
   "cell_type": "code",
   "execution_count": 26,
   "metadata": {
    "execution": {
     "iopub.execute_input": "2024-01-08T17:44:26.525421Z",
     "iopub.status.busy": "2024-01-08T17:44:26.524102Z",
     "iopub.status.idle": "2024-01-08T17:44:26.539480Z",
     "shell.execute_reply": "2024-01-08T17:44:26.538099Z",
     "shell.execute_reply.started": "2024-01-08T17:44:26.525364Z"
    }
   },
   "outputs": [
    {
     "data": {
      "text/html": [
       "<div>\n",
       "<style scoped>\n",
       "    .dataframe tbody tr th:only-of-type {\n",
       "        vertical-align: middle;\n",
       "    }\n",
       "\n",
       "    .dataframe tbody tr th {\n",
       "        vertical-align: top;\n",
       "    }\n",
       "\n",
       "    .dataframe thead th {\n",
       "        text-align: right;\n",
       "    }\n",
       "</style>\n",
       "<table border=\"1\" class=\"dataframe\">\n",
       "  <thead>\n",
       "    <tr style=\"text-align: right;\">\n",
       "      <th></th>\n",
       "      <th>count</th>\n",
       "    </tr>\n",
       "    <tr>\n",
       "      <th>QTY</th>\n",
       "      <th></th>\n",
       "    </tr>\n",
       "  </thead>\n",
       "  <tbody>\n",
       "    <tr>\n",
       "      <th>1.0</th>\n",
       "      <td>19389</td>\n",
       "    </tr>\n",
       "    <tr>\n",
       "      <th>2.0</th>\n",
       "      <td>4576</td>\n",
       "    </tr>\n",
       "    <tr>\n",
       "      <th>3.0</th>\n",
       "      <td>868</td>\n",
       "    </tr>\n",
       "    <tr>\n",
       "      <th>4.0</th>\n",
       "      <td>796</td>\n",
       "    </tr>\n",
       "    <tr>\n",
       "      <th>5.0</th>\n",
       "      <td>399</td>\n",
       "    </tr>\n",
       "    <tr>\n",
       "      <th>6.0</th>\n",
       "      <td>300</td>\n",
       "    </tr>\n",
       "    <tr>\n",
       "      <th>10.0</th>\n",
       "      <td>189</td>\n",
       "    </tr>\n",
       "    <tr>\n",
       "      <th>12.0</th>\n",
       "      <td>139</td>\n",
       "    </tr>\n",
       "    <tr>\n",
       "      <th>8.0</th>\n",
       "      <td>47</td>\n",
       "    </tr>\n",
       "    <tr>\n",
       "      <th>7.0</th>\n",
       "      <td>47</td>\n",
       "    </tr>\n",
       "    <tr>\n",
       "      <th>1000.0</th>\n",
       "      <td>23</td>\n",
       "    </tr>\n",
       "    <tr>\n",
       "      <th>11.0</th>\n",
       "      <td>22</td>\n",
       "    </tr>\n",
       "    <tr>\n",
       "      <th>20.0</th>\n",
       "      <td>22</td>\n",
       "    </tr>\n",
       "    <tr>\n",
       "      <th>14.0</th>\n",
       "      <td>20</td>\n",
       "    </tr>\n",
       "    <tr>\n",
       "      <th>15.0</th>\n",
       "      <td>19</td>\n",
       "    </tr>\n",
       "    <tr>\n",
       "      <th>13.0</th>\n",
       "      <td>17</td>\n",
       "    </tr>\n",
       "    <tr>\n",
       "      <th>9.0</th>\n",
       "      <td>13</td>\n",
       "    </tr>\n",
       "    <tr>\n",
       "      <th>24.0</th>\n",
       "      <td>12</td>\n",
       "    </tr>\n",
       "    <tr>\n",
       "      <th>100.0</th>\n",
       "      <td>11</td>\n",
       "    </tr>\n",
       "    <tr>\n",
       "      <th>30.0</th>\n",
       "      <td>10</td>\n",
       "    </tr>\n",
       "    <tr>\n",
       "      <th>2000.0</th>\n",
       "      <td>7</td>\n",
       "    </tr>\n",
       "    <tr>\n",
       "      <th>16.0</th>\n",
       "      <td>7</td>\n",
       "    </tr>\n",
       "    <tr>\n",
       "      <th>18.0</th>\n",
       "      <td>5</td>\n",
       "    </tr>\n",
       "    <tr>\n",
       "      <th>22.0</th>\n",
       "      <td>5</td>\n",
       "    </tr>\n",
       "    <tr>\n",
       "      <th>36.0</th>\n",
       "      <td>4</td>\n",
       "    </tr>\n",
       "    <tr>\n",
       "      <th>60.0</th>\n",
       "      <td>4</td>\n",
       "    </tr>\n",
       "    <tr>\n",
       "      <th>25.0</th>\n",
       "      <td>4</td>\n",
       "    </tr>\n",
       "    <tr>\n",
       "      <th>72.0</th>\n",
       "      <td>3</td>\n",
       "    </tr>\n",
       "    <tr>\n",
       "      <th>3000.0</th>\n",
       "      <td>3</td>\n",
       "    </tr>\n",
       "    <tr>\n",
       "      <th>17.0</th>\n",
       "      <td>3</td>\n",
       "    </tr>\n",
       "    <tr>\n",
       "      <th>48.0</th>\n",
       "      <td>3</td>\n",
       "    </tr>\n",
       "    <tr>\n",
       "      <th>50.0</th>\n",
       "      <td>3</td>\n",
       "    </tr>\n",
       "    <tr>\n",
       "      <th>0.5</th>\n",
       "      <td>2</td>\n",
       "    </tr>\n",
       "    <tr>\n",
       "      <th>28.0</th>\n",
       "      <td>2</td>\n",
       "    </tr>\n",
       "    <tr>\n",
       "      <th>5000.0</th>\n",
       "      <td>1</td>\n",
       "    </tr>\n",
       "    <tr>\n",
       "      <th>144.0</th>\n",
       "      <td>1</td>\n",
       "    </tr>\n",
       "    <tr>\n",
       "      <th>12000.0</th>\n",
       "      <td>1</td>\n",
       "    </tr>\n",
       "    <tr>\n",
       "      <th>80.0</th>\n",
       "      <td>1</td>\n",
       "    </tr>\n",
       "    <tr>\n",
       "      <th>19.0</th>\n",
       "      <td>1</td>\n",
       "    </tr>\n",
       "    <tr>\n",
       "      <th>192.0</th>\n",
       "      <td>1</td>\n",
       "    </tr>\n",
       "    <tr>\n",
       "      <th>89.0</th>\n",
       "      <td>1</td>\n",
       "    </tr>\n",
       "    <tr>\n",
       "      <th>27.0</th>\n",
       "      <td>1</td>\n",
       "    </tr>\n",
       "    <tr>\n",
       "      <th>32.0</th>\n",
       "      <td>1</td>\n",
       "    </tr>\n",
       "    <tr>\n",
       "      <th>96.0</th>\n",
       "      <td>1</td>\n",
       "    </tr>\n",
       "    <tr>\n",
       "      <th>21.0</th>\n",
       "      <td>1</td>\n",
       "    </tr>\n",
       "  </tbody>\n",
       "</table>\n",
       "</div>"
      ],
      "text/plain": [
       "         count\n",
       "QTY           \n",
       "1.0      19389\n",
       "2.0       4576\n",
       "3.0        868\n",
       "4.0        796\n",
       "5.0        399\n",
       "6.0        300\n",
       "10.0       189\n",
       "12.0       139\n",
       "8.0         47\n",
       "7.0         47\n",
       "1000.0      23\n",
       "11.0        22\n",
       "20.0        22\n",
       "14.0        20\n",
       "15.0        19\n",
       "13.0        17\n",
       "9.0         13\n",
       "24.0        12\n",
       "100.0       11\n",
       "30.0        10\n",
       "2000.0       7\n",
       "16.0         7\n",
       "18.0         5\n",
       "22.0         5\n",
       "36.0         4\n",
       "60.0         4\n",
       "25.0         4\n",
       "72.0         3\n",
       "3000.0       3\n",
       "17.0         3\n",
       "48.0         3\n",
       "50.0         3\n",
       "0.5          2\n",
       "28.0         2\n",
       "5000.0       1\n",
       "144.0        1\n",
       "12000.0      1\n",
       "80.0         1\n",
       "19.0         1\n",
       "192.0        1\n",
       "89.0         1\n",
       "27.0         1\n",
       "32.0         1\n",
       "96.0         1\n",
       "21.0         1"
      ]
     },
     "execution_count": 26,
     "metadata": {},
     "output_type": "execute_result"
    }
   ],
   "source": [
    "quantity_df = pd.DataFrame(df['QTY'].value_counts())\n",
    "quantity_df"
   ]
  },
  {
   "cell_type": "code",
   "execution_count": 27,
   "metadata": {
    "execution": {
     "iopub.execute_input": "2024-01-08T17:43:39.210988Z",
     "iopub.status.busy": "2024-01-08T17:43:39.210515Z",
     "iopub.status.idle": "2024-01-08T17:43:42.205821Z",
     "shell.execute_reply": "2024-01-08T17:43:42.204796Z",
     "shell.execute_reply.started": "2024-01-08T17:43:39.210947Z"
    }
   },
   "outputs": [
    {
     "data": {
      "text/plain": [
       "<Axes: xlabel='QTY', ylabel='count'>"
      ]
     },
     "execution_count": 27,
     "metadata": {},
     "output_type": "execute_result"
    },
    {
     "data": {
      "image/png": "[encoded data removed]",
      "text/plain": [
       "<Figure size 1200x600 with 1 Axes>"
      ]
     },
     "metadata": {},
     "output_type": "display_data"
    }
   ],
   "source": [
    "plt.figure(figsize = (12,6))\n",
    "sns.barplot(x = quantity_df.index , y = quantity_df['count'],palette = 'inferno')"
   ]
  },
  {
   "cell_type": "markdown",
   "metadata": {},
   "source": [
    "# Inference From The Analysis\n",
    "1.  Total months = 3\n",
    "2.  Total stores = 10\n",
    "3.  Mean Of Quantity = 4.105021\n",
    "4.  Mean Of Value = 67.808551\n",
    "5.  Median Of Value = 30.0\n",
    "6.  Standard Deviation of Quantity =34.365583\n",
    "7.  Standard Deviation of Value =760.129558\n",
    "8.  No Null Values Present In The Dataset.\n",
    "9.  Max Sales Are In Month 2.\n",
    "10. Max Quantity Sold In Store 7.\n",
    "11. Max Total Value Is In store 9. \n",
    "12. Max Sales Are At Quantity Of 0 And 1 \n",
    " "
   ]
  }
 ],
 "metadata": {
  "kaggle": {
   "accelerator": "none",
   "dataSources": [
    {
     "datasetId": 560533,
     "sourceId": 1019220,
     "sourceType": "datasetVersion"
    }
   ],
   "dockerImageVersionId": 30626,
   "isGpuEnabled": false,
   "isInternetEnabled": false,
   "language": "python",
   "sourceType": "notebook"
  },
  "kernelspec": {
   "display_name": "Python 3 (ipykernel)",
   "language": "python",
   "name": "python3"
  },
  "language_info": {
   "codemirror_mode": {
    "name": "ipython",
    "version": 3
   },
   "file_extension": ".py",
   "mimetype": "text/x-python",
   "name": "python",
   "nbconvert_exporter": "python",
   "pygments_lexer": "ipython3",
   "version": "3.11.5"
  }
 },
 "nbformat": 4,
 "nbformat_minor": 4
}
