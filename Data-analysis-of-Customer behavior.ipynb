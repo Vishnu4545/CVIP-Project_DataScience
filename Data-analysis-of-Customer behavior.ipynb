{
 "cells": [
  {
   "cell_type": "markdown",
   "metadata": {},
   "source": [
    "# SuperMarket Transaction \n",
    "Complete Data Analysis And Data Visualization"
   ]
  },
  {
   "cell_type": "code",
   "execution_count": 7,
   "metadata": {
    "_cell_guid": "b1076dfc-b9ad-4769-8c92-a6c4dae69d19",
    "_uuid": "8f2839f25d086af736a60e9eeb907d3b93b6e0e5",
    "execution": {
     "iopub.execute_input": "2024-01-08T16:36:35.289863Z",
     "iopub.status.busy": "2024-01-08T16:36:35.289446Z",
     "iopub.status.idle": "2024-01-08T16:36:35.311849Z",
     "shell.execute_reply": "2024-01-08T16:36:35.310905Z",
     "shell.execute_reply.started": "2024-01-08T16:36:35.289830Z"
    }
   },
   "outputs": [],
   "source": [
    "\n",
    "import seaborn as sns\n",
    "import numpy as np \n",
    "import pandas as pd \n",
    "import matplotlib.pyplot as plt\n",
    "import os\n",
    "for dirname, _, filenames in os.walk('/kaggle/input'):\n",
    "    for filename in filenames:\n",
    "        print(os.path.join(dirname, filename))\n"
   ]
  },
  {
   "cell_type": "markdown",
   "metadata": {},
   "source": [
    "# Input\n",
    "Hackathon_Ideal_Data.csv"
   ]
  },
  {
   "cell_type": "code",
   "execution_count": 9,
   "metadata": {
    "execution": {
     "iopub.execute_input": "2024-01-08T16:16:49.656314Z",
     "iopub.status.busy": "2024-01-08T16:16:49.655738Z",
     "iopub.status.idle": "2024-01-08T16:16:49.763372Z",
     "shell.execute_reply": "2024-01-08T16:16:49.762260Z",
     "shell.execute_reply.started": "2024-01-08T16:16:49.656273Z"
    }
   },
   "outputs": [
    {
     "data": {
      "text/html": [
       "<div>\n",
       "<style scoped>\n",
       "    .dataframe tbody tr th:only-of-type {\n",
       "        vertical-align: middle;\n",
       "    }\n",
       "\n",
       "    .dataframe tbody tr th {\n",
       "        vertical-align: top;\n",
       "    }\n",
       "\n",
       "    .dataframe thead th {\n",
       "        text-align: right;\n",
       "    }\n",
       "</style>\n",
       "<table border=\"1\" class=\"dataframe\">\n",
       "  <thead>\n",
       "    <tr style=\"text-align: right;\">\n",
       "      <th></th>\n",
       "      <th>MONTH</th>\n",
       "      <th>STORECODE</th>\n",
       "      <th>QTY</th>\n",
       "      <th>VALUE</th>\n",
       "      <th>GRP</th>\n",
       "      <th>SGRP</th>\n",
       "      <th>SSGRP</th>\n",
       "      <th>CMP</th>\n",
       "      <th>MBRD</th>\n",
       "      <th>BRD</th>\n",
       "    </tr>\n",
       "  </thead>\n",
       "  <tbody>\n",
       "    <tr>\n",
       "      <th>0</th>\n",
       "      <td>M1</td>\n",
       "      <td>P1</td>\n",
       "      <td>25</td>\n",
       "      <td>83</td>\n",
       "      <td>HAIR CONDITIONERS</td>\n",
       "      <td>HAIR CONDITIONERS</td>\n",
       "      <td>HAIR CONDITIONERS</td>\n",
       "      <td>HINDUSTAN UNILEVER LIMITED</td>\n",
       "      <td>DOVE</td>\n",
       "      <td>DOVE HAIR FALL RESCUE</td>\n",
       "    </tr>\n",
       "    <tr>\n",
       "      <th>1</th>\n",
       "      <td>M1</td>\n",
       "      <td>P1</td>\n",
       "      <td>6</td>\n",
       "      <td>22</td>\n",
       "      <td>HAIR CONDITIONERS</td>\n",
       "      <td>HAIR CONDITIONERS</td>\n",
       "      <td>HAIR CONDITIONERS</td>\n",
       "      <td>HINDUSTAN UNILEVER LIMITED</td>\n",
       "      <td>DOVE</td>\n",
       "      <td>DOVE INTENSE REPAIR</td>\n",
       "    </tr>\n",
       "    <tr>\n",
       "      <th>2</th>\n",
       "      <td>M1</td>\n",
       "      <td>P1</td>\n",
       "      <td>4</td>\n",
       "      <td>15</td>\n",
       "      <td>HAIR CONDITIONERS</td>\n",
       "      <td>HAIR CONDITIONERS</td>\n",
       "      <td>HAIR CONDITIONERS</td>\n",
       "      <td>HINDUSTAN UNILEVER LIMITED</td>\n",
       "      <td>DOVE</td>\n",
       "      <td>DOVE OXYGEN MOISTURE</td>\n",
       "    </tr>\n",
       "    <tr>\n",
       "      <th>3</th>\n",
       "      <td>M1</td>\n",
       "      <td>P1</td>\n",
       "      <td>15</td>\n",
       "      <td>60</td>\n",
       "      <td>HAIR CONDITIONERS</td>\n",
       "      <td>HAIR CONDITIONERS</td>\n",
       "      <td>HAIR CONDITIONERS</td>\n",
       "      <td>L'OREAL INDIA</td>\n",
       "      <td>GARNIER</td>\n",
       "      <td>FRUCTIS</td>\n",
       "    </tr>\n",
       "    <tr>\n",
       "      <th>4</th>\n",
       "      <td>M1</td>\n",
       "      <td>P2</td>\n",
       "      <td>0</td>\n",
       "      <td>0</td>\n",
       "      <td>HAIR CONDITIONERS</td>\n",
       "      <td>HAIR CONDITIONERS</td>\n",
       "      <td>HAIR CONDITIONERS</td>\n",
       "      <td>HINDUSTAN UNILEVER LIMITED</td>\n",
       "      <td>CLINIC PLUS</td>\n",
       "      <td>CLINIC PLUS</td>\n",
       "    </tr>\n",
       "  </tbody>\n",
       "</table>\n",
       "</div>"
      ],
      "text/plain": [
       "  MONTH STORECODE  QTY  VALUE                GRP               SGRP  \\\n",
       "0    M1        P1   25     83  HAIR CONDITIONERS  HAIR CONDITIONERS   \n",
       "1    M1        P1    6     22  HAIR CONDITIONERS  HAIR CONDITIONERS   \n",
       "2    M1        P1    4     15  HAIR CONDITIONERS  HAIR CONDITIONERS   \n",
       "3    M1        P1   15     60  HAIR CONDITIONERS  HAIR CONDITIONERS   \n",
       "4    M1        P2    0      0  HAIR CONDITIONERS  HAIR CONDITIONERS   \n",
       "\n",
       "               SSGRP                         CMP         MBRD  \\\n",
       "0  HAIR CONDITIONERS  HINDUSTAN UNILEVER LIMITED         DOVE   \n",
       "1  HAIR CONDITIONERS  HINDUSTAN UNILEVER LIMITED         DOVE   \n",
       "2  HAIR CONDITIONERS  HINDUSTAN UNILEVER LIMITED         DOVE   \n",
       "3  HAIR CONDITIONERS               L'OREAL INDIA      GARNIER   \n",
       "4  HAIR CONDITIONERS  HINDUSTAN UNILEVER LIMITED  CLINIC PLUS   \n",
       "\n",
       "                     BRD  \n",
       "0  DOVE HAIR FALL RESCUE  \n",
       "1    DOVE INTENSE REPAIR  \n",
       "2   DOVE OXYGEN MOISTURE  \n",
       "3                FRUCTIS  \n",
       "4            CLINIC PLUS  "
      ]
     },
     "execution_count": 9,
     "metadata": {},
     "output_type": "execute_result"
    }
   ],
   "source": [
    "df=pd.read_csv(\"C:\\\\Users\\\\bhavi\\\\Downloads\\\\Hackathon_Ideal_Data.csv\")\n",
    "df.head()"
   ]
  },
  {
   "cell_type": "markdown",
   "metadata": {},
   "source": [
    "* GRP - Group Level\n",
    "* SGRP - Sub Group Level\n",
    "* SSGRP - Sub Sub Group Level\n",
    "* CMP - Company\n",
    "* MBRD - Mother Brand Level\n",
    "* BRD - Brand Level"
   ]
  },
  {
   "cell_type": "code",
   "execution_count": 10,
   "metadata": {
    "execution": {
     "iopub.execute_input": "2024-01-08T16:24:53.315390Z",
     "iopub.status.busy": "2024-01-08T16:24:53.314979Z",
     "iopub.status.idle": "2024-01-08T16:24:53.341441Z",
     "shell.execute_reply": "2024-01-08T16:24:53.340242Z",
     "shell.execute_reply.started": "2024-01-08T16:24:53.315358Z"
    }
   },
   "outputs": [
    {
     "data": {
      "text/html": [
       "<div>\n",
       "<style scoped>\n",
       "    .dataframe tbody tr th:only-of-type {\n",
       "        vertical-align: middle;\n",
       "    }\n",
       "\n",
       "    .dataframe tbody tr th {\n",
       "        vertical-align: top;\n",
       "    }\n",
       "\n",
       "    .dataframe thead th {\n",
       "        text-align: right;\n",
       "    }\n",
       "</style>\n",
       "<table border=\"1\" class=\"dataframe\">\n",
       "  <thead>\n",
       "    <tr style=\"text-align: right;\">\n",
       "      <th></th>\n",
       "      <th>QTY</th>\n",
       "      <th>VALUE</th>\n",
       "    </tr>\n",
       "  </thead>\n",
       "  <tbody>\n",
       "    <tr>\n",
       "      <th>count</th>\n",
       "      <td>14260.000000</td>\n",
       "      <td>14260.000000</td>\n",
       "    </tr>\n",
       "    <tr>\n",
       "      <th>mean</th>\n",
       "      <td>16.354488</td>\n",
       "      <td>294.455330</td>\n",
       "    </tr>\n",
       "    <tr>\n",
       "      <th>std</th>\n",
       "      <td>34.365583</td>\n",
       "      <td>760.129558</td>\n",
       "    </tr>\n",
       "    <tr>\n",
       "      <th>min</th>\n",
       "      <td>0.000000</td>\n",
       "      <td>0.000000</td>\n",
       "    </tr>\n",
       "    <tr>\n",
       "      <th>25%</th>\n",
       "      <td>1.000000</td>\n",
       "      <td>10.000000</td>\n",
       "    </tr>\n",
       "    <tr>\n",
       "      <th>50%</th>\n",
       "      <td>4.000000</td>\n",
       "      <td>99.000000</td>\n",
       "    </tr>\n",
       "    <tr>\n",
       "      <th>75%</th>\n",
       "      <td>16.000000</td>\n",
       "      <td>283.000000</td>\n",
       "    </tr>\n",
       "    <tr>\n",
       "      <th>max</th>\n",
       "      <td>641.000000</td>\n",
       "      <td>24185.000000</td>\n",
       "    </tr>\n",
       "  </tbody>\n",
       "</table>\n",
       "</div>"
      ],
      "text/plain": [
       "                QTY         VALUE\n",
       "count  14260.000000  14260.000000\n",
       "mean      16.354488    294.455330\n",
       "std       34.365583    760.129558\n",
       "min        0.000000      0.000000\n",
       "25%        1.000000     10.000000\n",
       "50%        4.000000     99.000000\n",
       "75%       16.000000    283.000000\n",
       "max      641.000000  24185.000000"
      ]
     },
     "execution_count": 10,
     "metadata": {},
     "output_type": "execute_result"
    }
   ],
   "source": [
    "df.describe()"
   ]
  },
  {
   "cell_type": "code",
   "execution_count": 11,
   "metadata": {
    "execution": {
     "iopub.execute_input": "2024-01-08T16:25:14.888846Z",
     "iopub.status.busy": "2024-01-08T16:25:14.887918Z",
     "iopub.status.idle": "2024-01-08T16:25:15.028198Z",
     "shell.execute_reply": "2024-01-08T16:25:15.027123Z",
     "shell.execute_reply.started": "2024-01-08T16:25:14.888803Z"
    }
   },
   "outputs": [
    {
     "name": "stdout",
     "output_type": "stream",
     "text": [
      "<class 'pandas.core.frame.DataFrame'>\n",
      "RangeIndex: 14260 entries, 0 to 14259\n",
      "Data columns (total 10 columns):\n",
      " #   Column     Non-Null Count  Dtype \n",
      "---  ------     --------------  ----- \n",
      " 0   MONTH      14260 non-null  object\n",
      " 1   STORECODE  14260 non-null  object\n",
      " 2   QTY        14260 non-null  int64 \n",
      " 3   VALUE      14260 non-null  int64 \n",
      " 4   GRP        14260 non-null  object\n",
      " 5   SGRP       14260 non-null  object\n",
      " 6   SSGRP      14260 non-null  object\n",
      " 7   CMP        14260 non-null  object\n",
      " 8   MBRD       14260 non-null  object\n",
      " 9   BRD        14260 non-null  object\n",
      "dtypes: int64(2), object(8)\n",
      "memory usage: 1.1+ MB\n"
     ]
    }
   ],
   "source": [
    "df.info()"
   ]
  },
  {
   "cell_type": "code",
   "execution_count": 12,
   "metadata": {
    "execution": {
     "iopub.execute_input": "2024-01-08T16:25:45.422095Z",
     "iopub.status.busy": "2024-01-08T16:25:45.421107Z",
     "iopub.status.idle": "2024-01-08T16:25:45.451915Z",
     "shell.execute_reply": "2024-01-08T16:25:45.450394Z",
     "shell.execute_reply.started": "2024-01-08T16:25:45.422053Z"
    }
   },
   "outputs": [
    {
     "data": {
      "text/plain": [
       "MONTH        0\n",
       "STORECODE    0\n",
       "QTY          0\n",
       "VALUE        0\n",
       "GRP          0\n",
       "SGRP         0\n",
       "SSGRP        0\n",
       "CMP          0\n",
       "MBRD         0\n",
       "BRD          0\n",
       "dtype: int64"
      ]
     },
     "execution_count": 12,
     "metadata": {},
     "output_type": "execute_result"
    }
   ],
   "source": [
    "df.isnull().sum()"
   ]
  },
  {
   "cell_type": "code",
   "execution_count": 13,
   "metadata": {
    "execution": {
     "iopub.execute_input": "2024-01-08T16:27:18.477488Z",
     "iopub.status.busy": "2024-01-08T16:27:18.477079Z",
     "iopub.status.idle": "2024-01-08T16:27:18.486807Z",
     "shell.execute_reply": "2024-01-08T16:27:18.485687Z",
     "shell.execute_reply.started": "2024-01-08T16:27:18.477455Z"
    }
   },
   "outputs": [
    {
     "data": {
      "text/plain": [
       "array(['M1', 'M3', 'M2'], dtype=object)"
      ]
     },
     "execution_count": 13,
     "metadata": {},
     "output_type": "execute_result"
    }
   ],
   "source": [
    "df['MONTH'].unique()"
   ]
  },
  {
   "cell_type": "code",
   "execution_count": 14,
   "metadata": {
    "execution": {
     "iopub.execute_input": "2024-01-08T16:27:23.146156Z",
     "iopub.status.busy": "2024-01-08T16:27:23.145761Z",
     "iopub.status.idle": "2024-01-08T16:27:23.156049Z",
     "shell.execute_reply": "2024-01-08T16:27:23.154768Z",
     "shell.execute_reply.started": "2024-01-08T16:27:23.146125Z"
    }
   },
   "outputs": [
    {
     "data": {
      "text/plain": [
       "array(['P1', 'P2', 'P3', 'P4', 'P5', 'P6', 'P7', 'P8', 'P9', 'P10'],\n",
       "      dtype=object)"
      ]
     },
     "execution_count": 14,
     "metadata": {},
     "output_type": "execute_result"
    }
   ],
   "source": [
    "df['STORECODE'].unique()"
   ]
  },
  {
   "cell_type": "markdown",
   "metadata": {},
   "source": [
    "*  Sorting The Given Data:"
   ]
  },
  {
   "cell_type": "code",
   "execution_count": 15,
   "metadata": {
    "execution": {
     "iopub.execute_input": "2024-01-08T16:35:41.335890Z",
     "iopub.status.busy": "2024-01-08T16:35:41.335511Z",
     "iopub.status.idle": "2024-01-08T16:35:41.377722Z",
     "shell.execute_reply": "2024-01-08T16:35:41.376881Z",
     "shell.execute_reply.started": "2024-01-08T16:35:41.335860Z"
    }
   },
   "outputs": [
    {
     "data": {
      "text/html": [
       "<div>\n",
       "<style scoped>\n",
       "    .dataframe tbody tr th:only-of-type {\n",
       "        vertical-align: middle;\n",
       "    }\n",
       "\n",
       "    .dataframe tbody tr th {\n",
       "        vertical-align: top;\n",
       "    }\n",
       "\n",
       "    .dataframe thead th {\n",
       "        text-align: right;\n",
       "    }\n",
       "</style>\n",
       "<table border=\"1\" class=\"dataframe\">\n",
       "  <thead>\n",
       "    <tr style=\"text-align: right;\">\n",
       "      <th></th>\n",
       "      <th>MONTH</th>\n",
       "      <th>STORECODE</th>\n",
       "      <th>QTY</th>\n",
       "      <th>VALUE</th>\n",
       "      <th>GRP</th>\n",
       "      <th>SGRP</th>\n",
       "      <th>SSGRP</th>\n",
       "      <th>CMP</th>\n",
       "      <th>MBRD</th>\n",
       "      <th>BRD</th>\n",
       "    </tr>\n",
       "  </thead>\n",
       "  <tbody>\n",
       "    <tr>\n",
       "      <th>0</th>\n",
       "      <td>M1</td>\n",
       "      <td>P1</td>\n",
       "      <td>25</td>\n",
       "      <td>83</td>\n",
       "      <td>HAIR CONDITIONERS</td>\n",
       "      <td>HAIR CONDITIONERS</td>\n",
       "      <td>HAIR CONDITIONERS</td>\n",
       "      <td>HINDUSTAN UNILEVER LIMITED</td>\n",
       "      <td>DOVE</td>\n",
       "      <td>DOVE HAIR FALL RESCUE</td>\n",
       "    </tr>\n",
       "    <tr>\n",
       "      <th>7106</th>\n",
       "      <td>M1</td>\n",
       "      <td>P3</td>\n",
       "      <td>1</td>\n",
       "      <td>0</td>\n",
       "      <td>AGARBATTI &amp; DHOOPBATTI</td>\n",
       "      <td>DHOOPBATTI</td>\n",
       "      <td>DHOOPBATTI</td>\n",
       "      <td>N RANGA RAO &amp; SONS</td>\n",
       "      <td>VASU</td>\n",
       "      <td>VASU</td>\n",
       "    </tr>\n",
       "    <tr>\n",
       "      <th>7105</th>\n",
       "      <td>M1</td>\n",
       "      <td>P3</td>\n",
       "      <td>16</td>\n",
       "      <td>196</td>\n",
       "      <td>AGARBATTI &amp; DHOOPBATTI</td>\n",
       "      <td>AGARBATTI</td>\n",
       "      <td>AGARBATTI</td>\n",
       "      <td>PARIMAL MANDIR</td>\n",
       "      <td>PARIMAL</td>\n",
       "      <td>PARIMAL</td>\n",
       "    </tr>\n",
       "    <tr>\n",
       "      <th>7104</th>\n",
       "      <td>M1</td>\n",
       "      <td>P3</td>\n",
       "      <td>0</td>\n",
       "      <td>0</td>\n",
       "      <td>AGARBATTI &amp; DHOOPBATTI</td>\n",
       "      <td>AGARBATTI</td>\n",
       "      <td>AGARBATTI</td>\n",
       "      <td>N RANGA RAO &amp; SONS</td>\n",
       "      <td>CYCLE</td>\n",
       "      <td>CYCLE HERITAGE</td>\n",
       "    </tr>\n",
       "    <tr>\n",
       "      <th>7103</th>\n",
       "      <td>M1</td>\n",
       "      <td>P3</td>\n",
       "      <td>4</td>\n",
       "      <td>36</td>\n",
       "      <td>AGARBATTI &amp; DHOOPBATTI</td>\n",
       "      <td>AGARBATTI</td>\n",
       "      <td>AGARBATTI</td>\n",
       "      <td>N RANGA RAO &amp; SONS</td>\n",
       "      <td>CYCLE</td>\n",
       "      <td>CYCLE GOOD LUCK ROSE</td>\n",
       "    </tr>\n",
       "    <tr>\n",
       "      <th>...</th>\n",
       "      <td>...</td>\n",
       "      <td>...</td>\n",
       "      <td>...</td>\n",
       "      <td>...</td>\n",
       "      <td>...</td>\n",
       "      <td>...</td>\n",
       "      <td>...</td>\n",
       "      <td>...</td>\n",
       "      <td>...</td>\n",
       "      <td>...</td>\n",
       "    </tr>\n",
       "    <tr>\n",
       "      <th>1758</th>\n",
       "      <td>M3</td>\n",
       "      <td>P7</td>\n",
       "      <td>1</td>\n",
       "      <td>0</td>\n",
       "      <td>SHAMPOO - BY SEGMENTS</td>\n",
       "      <td>BOTTLES / TUBES</td>\n",
       "      <td>BOTTLES / TUBES</td>\n",
       "      <td>EMAMI LIMITED</td>\n",
       "      <td>KESH KING</td>\n",
       "      <td>KESH KING</td>\n",
       "    </tr>\n",
       "    <tr>\n",
       "      <th>1759</th>\n",
       "      <td>M3</td>\n",
       "      <td>P7</td>\n",
       "      <td>0</td>\n",
       "      <td>0</td>\n",
       "      <td>SHAMPOO - BY SEGMENTS</td>\n",
       "      <td>BOTTLES / TUBES</td>\n",
       "      <td>BOTTLES / TUBES</td>\n",
       "      <td>HIMALAYA DRUG</td>\n",
       "      <td>HIMALAYA</td>\n",
       "      <td>HIMALAYA ANTI DANDRUFF</td>\n",
       "    </tr>\n",
       "    <tr>\n",
       "      <th>1760</th>\n",
       "      <td>M3</td>\n",
       "      <td>P7</td>\n",
       "      <td>13</td>\n",
       "      <td>822</td>\n",
       "      <td>SHAMPOO - BY SEGMENTS</td>\n",
       "      <td>BOTTLES / TUBES</td>\n",
       "      <td>BOTTLES / TUBES</td>\n",
       "      <td>HINDUSTAN UNILEVER LIMITED</td>\n",
       "      <td>CLINIC PLUS</td>\n",
       "      <td>CLINIC PLUS</td>\n",
       "    </tr>\n",
       "    <tr>\n",
       "      <th>1750</th>\n",
       "      <td>M3</td>\n",
       "      <td>P6</td>\n",
       "      <td>22</td>\n",
       "      <td>52</td>\n",
       "      <td>SHAMPOO - BY SEGMENTS</td>\n",
       "      <td>SACHETS</td>\n",
       "      <td>SACHETS</td>\n",
       "      <td>HINDUSTAN UNILEVER LIMITED</td>\n",
       "      <td>DOVE</td>\n",
       "      <td>DOVE HAIR FALL RESCUE</td>\n",
       "    </tr>\n",
       "    <tr>\n",
       "      <th>8934</th>\n",
       "      <td>M3</td>\n",
       "      <td>P6</td>\n",
       "      <td>1</td>\n",
       "      <td>44</td>\n",
       "      <td>KETCHUPS/SAUCES</td>\n",
       "      <td>KETCHUPS/SAUCES</td>\n",
       "      <td>KETCHUPS/SAUCES</td>\n",
       "      <td>MAPRO FOODS PVT LTD</td>\n",
       "      <td>MAPRO</td>\n",
       "      <td>MAPRO</td>\n",
       "    </tr>\n",
       "  </tbody>\n",
       "</table>\n",
       "<p>14260 rows × 10 columns</p>\n",
       "</div>"
      ],
      "text/plain": [
       "     MONTH STORECODE  QTY  VALUE                     GRP               SGRP  \\\n",
       "0       M1        P1   25     83       HAIR CONDITIONERS  HAIR CONDITIONERS   \n",
       "7106    M1        P3    1      0  AGARBATTI & DHOOPBATTI         DHOOPBATTI   \n",
       "7105    M1        P3   16    196  AGARBATTI & DHOOPBATTI          AGARBATTI   \n",
       "7104    M1        P3    0      0  AGARBATTI & DHOOPBATTI          AGARBATTI   \n",
       "7103    M1        P3    4     36  AGARBATTI & DHOOPBATTI          AGARBATTI   \n",
       "...    ...       ...  ...    ...                     ...                ...   \n",
       "1758    M3        P7    1      0   SHAMPOO - BY SEGMENTS    BOTTLES / TUBES   \n",
       "1759    M3        P7    0      0   SHAMPOO - BY SEGMENTS    BOTTLES / TUBES   \n",
       "1760    M3        P7   13    822   SHAMPOO - BY SEGMENTS    BOTTLES / TUBES   \n",
       "1750    M3        P6   22     52   SHAMPOO - BY SEGMENTS            SACHETS   \n",
       "8934    M3        P6    1     44         KETCHUPS/SAUCES    KETCHUPS/SAUCES   \n",
       "\n",
       "                  SSGRP                         CMP         MBRD  \\\n",
       "0     HAIR CONDITIONERS  HINDUSTAN UNILEVER LIMITED         DOVE   \n",
       "7106         DHOOPBATTI          N RANGA RAO & SONS         VASU   \n",
       "7105          AGARBATTI              PARIMAL MANDIR      PARIMAL   \n",
       "7104          AGARBATTI          N RANGA RAO & SONS        CYCLE   \n",
       "7103          AGARBATTI          N RANGA RAO & SONS        CYCLE   \n",
       "...                 ...                         ...          ...   \n",
       "1758    BOTTLES / TUBES               EMAMI LIMITED    KESH KING   \n",
       "1759    BOTTLES / TUBES               HIMALAYA DRUG     HIMALAYA   \n",
       "1760    BOTTLES / TUBES  HINDUSTAN UNILEVER LIMITED  CLINIC PLUS   \n",
       "1750            SACHETS  HINDUSTAN UNILEVER LIMITED         DOVE   \n",
       "8934    KETCHUPS/SAUCES         MAPRO FOODS PVT LTD        MAPRO   \n",
       "\n",
       "                         BRD  \n",
       "0      DOVE HAIR FALL RESCUE  \n",
       "7106                    VASU  \n",
       "7105                 PARIMAL  \n",
       "7104          CYCLE HERITAGE  \n",
       "7103    CYCLE GOOD LUCK ROSE  \n",
       "...                      ...  \n",
       "1758               KESH KING  \n",
       "1759  HIMALAYA ANTI DANDRUFF  \n",
       "1760             CLINIC PLUS  \n",
       "1750   DOVE HAIR FALL RESCUE  \n",
       "8934                   MAPRO  \n",
       "\n",
       "[14260 rows x 10 columns]"
      ]
     },
     "execution_count": 15,
     "metadata": {},
     "output_type": "execute_result"
    }
   ],
   "source": [
    "df.sort_values(by='MONTH')"
   ]
  },
  {
   "cell_type": "markdown",
   "metadata": {},
   "source": [
    "#   Mean ,Median,Mode ( Represents the VALUE column )"
   ]
  },
  {
   "cell_type": "code",
   "execution_count": 16,
   "metadata": {
    "execution": {
     "iopub.execute_input": "2024-01-08T16:32:54.988818Z",
     "iopub.status.busy": "2024-01-08T16:32:54.988258Z",
     "iopub.status.idle": "2024-01-08T16:32:55.002564Z",
     "shell.execute_reply": "2024-01-08T16:32:55.000662Z",
     "shell.execute_reply.started": "2024-01-08T16:32:54.988774Z"
    }
   },
   "outputs": [
    {
     "data": {
      "text/plain": [
       "294.4553295932679"
      ]
     },
     "execution_count": 16,
     "metadata": {},
     "output_type": "execute_result"
    }
   ],
   "source": [
    "df['VALUE'].mean()\n"
   ]
  },
  {
   "cell_type": "code",
   "execution_count": 17,
   "metadata": {
    "execution": {
     "iopub.execute_input": "2024-01-08T16:33:05.131306Z",
     "iopub.status.busy": "2024-01-08T16:33:05.130781Z",
     "iopub.status.idle": "2024-01-08T16:33:05.140994Z",
     "shell.execute_reply": "2024-01-08T16:33:05.139557Z",
     "shell.execute_reply.started": "2024-01-08T16:33:05.131264Z"
    }
   },
   "outputs": [
    {
     "data": {
      "text/plain": [
       "99.0"
      ]
     },
     "execution_count": 17,
     "metadata": {},
     "output_type": "execute_result"
    }
   ],
   "source": [
    "df['VALUE'].median()"
   ]
  },
  {
   "cell_type": "code",
   "execution_count": 18,
   "metadata": {
    "execution": {
     "iopub.execute_input": "2024-01-08T16:33:10.514388Z",
     "iopub.status.busy": "2024-01-08T16:33:10.513950Z",
     "iopub.status.idle": "2024-01-08T16:33:10.524181Z",
     "shell.execute_reply": "2024-01-08T16:33:10.523322Z",
     "shell.execute_reply.started": "2024-01-08T16:33:10.514353Z"
    }
   },
   "outputs": [
    {
     "data": {
      "text/plain": [
       "0    0\n",
       "Name: VALUE, dtype: int64"
      ]
     },
     "execution_count": 18,
     "metadata": {},
     "output_type": "execute_result"
    }
   ],
   "source": [
    "df['VALUE'].mode()"
   ]
  },
  {
   "cell_type": "markdown",
   "metadata": {},
   "source": [
    "# Data Visualization"
   ]
  },
  {
   "cell_type": "code",
   "execution_count": 19,
   "metadata": {
    "execution": {
     "iopub.execute_input": "2024-01-08T16:41:04.934197Z",
     "iopub.status.busy": "2024-01-08T16:41:04.933059Z",
     "iopub.status.idle": "2024-01-08T16:41:04.948461Z",
     "shell.execute_reply": "2024-01-08T16:41:04.947295Z",
     "shell.execute_reply.started": "2024-01-08T16:41:04.934128Z"
    }
   },
   "outputs": [
    {
     "name": "stdout",
     "output_type": "stream",
     "text": [
      "(14260, 10)\n"
     ]
    },
    {
     "data": {
      "text/plain": [
       "MONTH\n",
       "M2    4816\n",
       "M1    4804\n",
       "M3    4640\n",
       "Name: count, dtype: int64"
      ]
     },
     "execution_count": 19,
     "metadata": {},
     "output_type": "execute_result"
    }
   ],
   "source": [
    "print(df.shape)\n",
    "df['MONTH'].value_counts()"
   ]
  },
  {
   "cell_type": "code",
   "execution_count": 20,
   "metadata": {
    "execution": {
     "iopub.execute_input": "2024-01-08T17:01:05.926543Z",
     "iopub.status.busy": "2024-01-08T17:01:05.926091Z",
     "iopub.status.idle": "2024-01-08T17:01:05.938220Z",
     "shell.execute_reply": "2024-01-08T17:01:05.937191Z",
     "shell.execute_reply.started": "2024-01-08T17:01:05.926505Z"
    }
   },
   "outputs": [
    {
     "name": "stdout",
     "output_type": "stream",
     "text": [
      "(14260, 10)\n"
     ]
    },
    {
     "data": {
      "text/plain": [
       "STORECODE\n",
       "P8     2642\n",
       "P6     2097\n",
       "P10    1508\n",
       "P2     1471\n",
       "P4     1454\n",
       "P3     1362\n",
       "P9     1188\n",
       "P1     1061\n",
       "P7      850\n",
       "P5      627\n",
       "Name: count, dtype: int64"
      ]
     },
     "execution_count": 20,
     "metadata": {},
     "output_type": "execute_result"
    }
   ],
   "source": [
    "print(df.shape)\n",
    "df['STORECODE'].value_counts()"
   ]
  },
  {
   "cell_type": "markdown",
   "metadata": {},
   "source": [
    "* Below Graph Describes The Sales Based On The Transaction Of 3 Months  (M1,M2,M3)"
   ]
  },
  {
   "cell_type": "code",
   "execution_count": 21,
   "metadata": {
    "execution": {
     "iopub.execute_input": "2024-01-08T16:38:15.509258Z",
     "iopub.status.busy": "2024-01-08T16:38:15.508817Z",
     "iopub.status.idle": "2024-01-08T16:38:16.086533Z",
     "shell.execute_reply": "2024-01-08T16:38:16.085505Z",
     "shell.execute_reply.started": "2024-01-08T16:38:15.509220Z"
    }
   },
   "outputs": [
    {
     "data": {
      "text/plain": [
       "<Axes: xlabel='MONTH', ylabel='VALUE'>"
      ]
     },
     "execution_count": 21,
     "metadata": {},
     "output_type": "execute_result"
    },
    {
     "data": {
      "image/png": "[encoded data removed]",
      "text/plain": [
       "<Figure size 1200x600 with 1 Axes>"
      ]
     },
     "metadata": {},
     "output_type": "display_data"
    }
   ],
   "source": [
    "\n",
    "plt.figure(figsize = (12,6))\n",
    "sns.barplot(x = 'MONTH',y='VALUE',data=df)"
   ]
  },
  {
   "cell_type": "markdown",
   "metadata": {},
   "source": [
    "* By Visualizing The Graph We Can Conclude That Month 3 Has More Transactions Than The Remaining."
   ]
  },
  {
   "cell_type": "markdown",
   "metadata": {},
   "source": [
    "> Creating Dummies For Month Column For Getting Numeric Data For Seaborn Bar Plot"
   ]
  },
  {
   "cell_type": "code",
   "execution_count": 22,
   "metadata": {
    "execution": {
     "iopub.execute_input": "2024-01-08T16:52:07.118696Z",
     "iopub.status.busy": "2024-01-08T16:52:07.117576Z",
     "iopub.status.idle": "2024-01-08T16:52:07.137386Z",
     "shell.execute_reply": "2024-01-08T16:52:07.135953Z",
     "shell.execute_reply.started": "2024-01-08T16:52:07.118647Z"
    }
   },
   "outputs": [
    {
     "data": {
      "text/html": [
       "<div>\n",
       "<style scoped>\n",
       "    .dataframe tbody tr th:only-of-type {\n",
       "        vertical-align: middle;\n",
       "    }\n",
       "\n",
       "    .dataframe tbody tr th {\n",
       "        vertical-align: top;\n",
       "    }\n",
       "\n",
       "    .dataframe thead th {\n",
       "        text-align: right;\n",
       "    }\n",
       "</style>\n",
       "<table border=\"1\" class=\"dataframe\">\n",
       "  <thead>\n",
       "    <tr style=\"text-align: right;\">\n",
       "      <th></th>\n",
       "      <th>M1</th>\n",
       "      <th>M2</th>\n",
       "      <th>M3</th>\n",
       "    </tr>\n",
       "  </thead>\n",
       "  <tbody>\n",
       "    <tr>\n",
       "      <th>0</th>\n",
       "      <td>True</td>\n",
       "      <td>False</td>\n",
       "      <td>False</td>\n",
       "    </tr>\n",
       "    <tr>\n",
       "      <th>1</th>\n",
       "      <td>True</td>\n",
       "      <td>False</td>\n",
       "      <td>False</td>\n",
       "    </tr>\n",
       "    <tr>\n",
       "      <th>2</th>\n",
       "      <td>True</td>\n",
       "      <td>False</td>\n",
       "      <td>False</td>\n",
       "    </tr>\n",
       "    <tr>\n",
       "      <th>3</th>\n",
       "      <td>True</td>\n",
       "      <td>False</td>\n",
       "      <td>False</td>\n",
       "    </tr>\n",
       "    <tr>\n",
       "      <th>4</th>\n",
       "      <td>True</td>\n",
       "      <td>False</td>\n",
       "      <td>False</td>\n",
       "    </tr>\n",
       "  </tbody>\n",
       "</table>\n",
       "</div>"
      ],
      "text/plain": [
       "     M1     M2     M3\n",
       "0  True  False  False\n",
       "1  True  False  False\n",
       "2  True  False  False\n",
       "3  True  False  False\n",
       "4  True  False  False"
      ]
     },
     "execution_count": 22,
     "metadata": {},
     "output_type": "execute_result"
    }
   ],
   "source": [
    "month_dummies =pd.get_dummies(df['MONTH'])\n",
    "month_dummies.head()"
   ]
  },
  {
   "cell_type": "markdown",
   "metadata": {},
   "source": [
    "> Joining Original dataframe(df) With month dummies dataframe (month_dummies)"
   ]
  },
  {
   "cell_type": "code",
   "execution_count": 23,
   "metadata": {
    "execution": {
     "iopub.execute_input": "2024-01-08T16:55:34.870865Z",
     "iopub.status.busy": "2024-01-08T16:55:34.870423Z",
     "iopub.status.idle": "2024-01-08T16:55:34.893221Z",
     "shell.execute_reply": "2024-01-08T16:55:34.892029Z",
     "shell.execute_reply.started": "2024-01-08T16:55:34.870808Z"
    }
   },
   "outputs": [
    {
     "data": {
      "text/html": [
       "<div>\n",
       "<style scoped>\n",
       "    .dataframe tbody tr th:only-of-type {\n",
       "        vertical-align: middle;\n",
       "    }\n",
       "\n",
       "    .dataframe tbody tr th {\n",
       "        vertical-align: top;\n",
       "    }\n",
       "\n",
       "    .dataframe thead th {\n",
       "        text-align: right;\n",
       "    }\n",
       "</style>\n",
       "<table border=\"1\" class=\"dataframe\">\n",
       "  <thead>\n",
       "    <tr style=\"text-align: right;\">\n",
       "      <th></th>\n",
       "      <th>MONTH</th>\n",
       "      <th>STORECODE</th>\n",
       "      <th>QTY</th>\n",
       "      <th>VALUE</th>\n",
       "      <th>GRP</th>\n",
       "      <th>SGRP</th>\n",
       "      <th>SSGRP</th>\n",
       "      <th>CMP</th>\n",
       "      <th>MBRD</th>\n",
       "      <th>BRD</th>\n",
       "      <th>M1</th>\n",
       "      <th>M2</th>\n",
       "      <th>M3</th>\n",
       "    </tr>\n",
       "  </thead>\n",
       "  <tbody>\n",
       "    <tr>\n",
       "      <th>0</th>\n",
       "      <td>M1</td>\n",
       "      <td>P1</td>\n",
       "      <td>25</td>\n",
       "      <td>83</td>\n",
       "      <td>HAIR CONDITIONERS</td>\n",
       "      <td>HAIR CONDITIONERS</td>\n",
       "      <td>HAIR CONDITIONERS</td>\n",
       "      <td>HINDUSTAN UNILEVER LIMITED</td>\n",
       "      <td>DOVE</td>\n",
       "      <td>DOVE HAIR FALL RESCUE</td>\n",
       "      <td>True</td>\n",
       "      <td>False</td>\n",
       "      <td>False</td>\n",
       "    </tr>\n",
       "    <tr>\n",
       "      <th>1</th>\n",
       "      <td>M1</td>\n",
       "      <td>P1</td>\n",
       "      <td>6</td>\n",
       "      <td>22</td>\n",
       "      <td>HAIR CONDITIONERS</td>\n",
       "      <td>HAIR CONDITIONERS</td>\n",
       "      <td>HAIR CONDITIONERS</td>\n",
       "      <td>HINDUSTAN UNILEVER LIMITED</td>\n",
       "      <td>DOVE</td>\n",
       "      <td>DOVE INTENSE REPAIR</td>\n",
       "      <td>True</td>\n",
       "      <td>False</td>\n",
       "      <td>False</td>\n",
       "    </tr>\n",
       "    <tr>\n",
       "      <th>2</th>\n",
       "      <td>M1</td>\n",
       "      <td>P1</td>\n",
       "      <td>4</td>\n",
       "      <td>15</td>\n",
       "      <td>HAIR CONDITIONERS</td>\n",
       "      <td>HAIR CONDITIONERS</td>\n",
       "      <td>HAIR CONDITIONERS</td>\n",
       "      <td>HINDUSTAN UNILEVER LIMITED</td>\n",
       "      <td>DOVE</td>\n",
       "      <td>DOVE OXYGEN MOISTURE</td>\n",
       "      <td>True</td>\n",
       "      <td>False</td>\n",
       "      <td>False</td>\n",
       "    </tr>\n",
       "    <tr>\n",
       "      <th>3</th>\n",
       "      <td>M1</td>\n",
       "      <td>P1</td>\n",
       "      <td>15</td>\n",
       "      <td>60</td>\n",
       "      <td>HAIR CONDITIONERS</td>\n",
       "      <td>HAIR CONDITIONERS</td>\n",
       "      <td>HAIR CONDITIONERS</td>\n",
       "      <td>L'OREAL INDIA</td>\n",
       "      <td>GARNIER</td>\n",
       "      <td>FRUCTIS</td>\n",
       "      <td>True</td>\n",
       "      <td>False</td>\n",
       "      <td>False</td>\n",
       "    </tr>\n",
       "    <tr>\n",
       "      <th>4</th>\n",
       "      <td>M1</td>\n",
       "      <td>P2</td>\n",
       "      <td>0</td>\n",
       "      <td>0</td>\n",
       "      <td>HAIR CONDITIONERS</td>\n",
       "      <td>HAIR CONDITIONERS</td>\n",
       "      <td>HAIR CONDITIONERS</td>\n",
       "      <td>HINDUSTAN UNILEVER LIMITED</td>\n",
       "      <td>CLINIC PLUS</td>\n",
       "      <td>CLINIC PLUS</td>\n",
       "      <td>True</td>\n",
       "      <td>False</td>\n",
       "      <td>False</td>\n",
       "    </tr>\n",
       "  </tbody>\n",
       "</table>\n",
       "</div>"
      ],
      "text/plain": [
       "  MONTH STORECODE  QTY  VALUE                GRP               SGRP  \\\n",
       "0    M1        P1   25     83  HAIR CONDITIONERS  HAIR CONDITIONERS   \n",
       "1    M1        P1    6     22  HAIR CONDITIONERS  HAIR CONDITIONERS   \n",
       "2    M1        P1    4     15  HAIR CONDITIONERS  HAIR CONDITIONERS   \n",
       "3    M1        P1   15     60  HAIR CONDITIONERS  HAIR CONDITIONERS   \n",
       "4    M1        P2    0      0  HAIR CONDITIONERS  HAIR CONDITIONERS   \n",
       "\n",
       "               SSGRP                         CMP         MBRD  \\\n",
       "0  HAIR CONDITIONERS  HINDUSTAN UNILEVER LIMITED         DOVE   \n",
       "1  HAIR CONDITIONERS  HINDUSTAN UNILEVER LIMITED         DOVE   \n",
       "2  HAIR CONDITIONERS  HINDUSTAN UNILEVER LIMITED         DOVE   \n",
       "3  HAIR CONDITIONERS               L'OREAL INDIA      GARNIER   \n",
       "4  HAIR CONDITIONERS  HINDUSTAN UNILEVER LIMITED  CLINIC PLUS   \n",
       "\n",
       "                     BRD    M1     M2     M3  \n",
       "0  DOVE HAIR FALL RESCUE  True  False  False  \n",
       "1    DOVE INTENSE REPAIR  True  False  False  \n",
       "2   DOVE OXYGEN MOISTURE  True  False  False  \n",
       "3                FRUCTIS  True  False  False  \n",
       "4            CLINIC PLUS  True  False  False  "
      ]
     },
     "execution_count": 23,
     "metadata": {},
     "output_type": "execute_result"
    }
   ],
   "source": [
    "df=pd.concat([df,month_dummies],axis=1)\n",
    "df.head()"
   ]
  },
  {
   "cell_type": "code",
   "execution_count": 24,
   "metadata": {
    "execution": {
     "iopub.execute_input": "2024-01-08T16:57:07.478555Z",
     "iopub.status.busy": "2024-01-08T16:57:07.478099Z",
     "iopub.status.idle": "2024-01-08T16:57:08.198772Z",
     "shell.execute_reply": "2024-01-08T16:57:08.197495Z",
     "shell.execute_reply.started": "2024-01-08T16:57:07.478521Z"
    }
   },
   "outputs": [
    {
     "data": {
      "text/plain": [
       "<Axes: >"
      ]
     },
     "execution_count": 24,
     "metadata": {},
     "output_type": "execute_result"
    },
    {
     "data": {
      "image/png": "[encoded data removed]",
      "text/plain": [
       "<Figure size 640x480 with 1 Axes>"
      ]
     },
     "metadata": {},
     "output_type": "display_data"
    }
   ],
   "source": [
    "df.plot()"
   ]
  },
  {
   "cell_type": "markdown",
   "metadata": {},
   "source": [
    "* Above Graph Shows The Mapping Between Quantity and value For The Product."
   ]
  },
  {
   "cell_type": "markdown",
   "metadata": {},
   "source": [
    "> Plotting The Each Store With Quantity."
   ]
  },
  {
   "cell_type": "code",
   "execution_count": 25,
   "metadata": {
    "execution": {
     "iopub.execute_input": "2024-01-08T17:04:55.053679Z",
     "iopub.status.busy": "2024-01-08T17:04:55.053271Z",
     "iopub.status.idle": "2024-01-08T17:04:55.912358Z",
     "shell.execute_reply": "2024-01-08T17:04:55.911291Z",
     "shell.execute_reply.started": "2024-01-08T17:04:55.053647Z"
    }
   },
   "outputs": [
    {
     "data": {
      "text/plain": [
       "<Axes: xlabel='STORECODE', ylabel='QTY'>"
      ]
     },
     "execution_count": 25,
     "metadata": {},
     "output_type": "execute_result"
    },
    {
     "data": {
      "image/png": "[encoded data removed]",
      "text/plain": [
       "<Figure size 1200x600 with 1 Axes>"
      ]
     },
     "metadata": {},
     "output_type": "display_data"
    }
   ],
   "source": [
    "plt.figure(figsize = (12,6))\n",
    "sns.barplot(x = 'STORECODE',y='QTY',data=df)"
   ]
  },
  {
   "cell_type": "markdown",
   "metadata": {},
   "source": [
    "> Plotting The Each Store With Value."
   ]
  },
  {
   "cell_type": "code",
   "execution_count": 26,
   "metadata": {
    "execution": {
     "iopub.execute_input": "2024-01-08T17:08:45.745516Z",
     "iopub.status.busy": "2024-01-08T17:08:45.745085Z",
     "iopub.status.idle": "2024-01-08T17:08:46.618169Z",
     "shell.execute_reply": "2024-01-08T17:08:46.617009Z",
     "shell.execute_reply.started": "2024-01-08T17:08:45.745483Z"
    }
   },
   "outputs": [
    {
     "data": {
      "text/plain": [
       "<Axes: xlabel='STORECODE', ylabel='VALUE'>"
      ]
     },
     "execution_count": 26,
     "metadata": {},
     "output_type": "execute_result"
    },
    {
     "data": {
      "image/png": "[encoded data removed]",
      "text/plain": [
       "<Figure size 1200x600 with 1 Axes>"
      ]
     },
     "metadata": {},
     "output_type": "display_data"
    }
   ],
   "source": [
    "plt.figure(figsize = (12,6))\n",
    "sns.barplot(x = 'STORECODE',y='VALUE',data=df)"
   ]
  },
  {
   "cell_type": "code",
   "execution_count": 29,
   "metadata": {
    "execution": {
     "iopub.execute_input": "2024-01-08T17:16:49.628356Z",
     "iopub.status.busy": "2024-01-08T17:16:49.627862Z",
     "iopub.status.idle": "2024-01-08T17:16:53.674927Z",
     "shell.execute_reply": "2024-01-08T17:16:53.673942Z",
     "shell.execute_reply.started": "2024-01-08T17:16:49.628319Z"
    }
   },
   "outputs": [
    {
     "data": {
      "text/plain": [
       "<Axes: xlabel='GRP', ylabel='QTY'>"
      ]
     },
     "execution_count": 29,
     "metadata": {},
     "output_type": "execute_result"
    },
    {
     "data": {
      "image/png": "[encoded data removed]",
      "text/plain": [
       "<Figure size 1200x600 with 1 Axes>"
      ]
     },
     "metadata": {},
     "output_type": "display_data"
    }
   ],
   "source": [
    "plt.figure(figsize = (12,6))\n",
    "sns.barplot(x = 'GRP',y='QTY',data=df)"
   ]
  },
  {
   "cell_type": "code",
   "execution_count": 30,
   "metadata": {
    "execution": {
     "iopub.execute_input": "2024-01-08T17:16:57.912928Z",
     "iopub.status.busy": "2024-01-08T17:16:57.912544Z",
     "iopub.status.idle": "2024-01-08T17:17:02.013522Z",
     "shell.execute_reply": "2024-01-08T17:17:02.012312Z",
     "shell.execute_reply.started": "2024-01-08T17:16:57.912898Z"
    }
   },
   "outputs": [
    {
     "data": {
      "text/plain": [
       "<Axes: xlabel='GRP', ylabel='VALUE'>"
      ]
     },
     "execution_count": 30,
     "metadata": {},
     "output_type": "execute_result"
    },
    {
     "data": {
      "image/png": "[encoded data removed]",
      "text/plain": [
       "<Figure size 1200x600 with 1 Axes>"
      ]
     },
     "metadata": {},
     "output_type": "display_data"
    }
   ],
   "source": [
    "plt.figure(figsize = (12,6))\n",
    "sns.barplot(x = 'GRP',y='VALUE',data=df)"
   ]
  },
  {
   "cell_type": "markdown",
   "metadata": {},
   "source": [
    "#  Exploring Quantity Column"
   ]
  },
  {
   "cell_type": "code",
   "execution_count": 31,
   "metadata": {
    "execution": {
     "iopub.execute_input": "2024-01-08T17:28:11.414065Z",
     "iopub.status.busy": "2024-01-08T17:28:11.413670Z",
     "iopub.status.idle": "2024-01-08T17:28:11.798436Z",
     "shell.execute_reply": "2024-01-08T17:28:11.797233Z",
     "shell.execute_reply.started": "2024-01-08T17:28:11.414034Z"
    }
   },
   "outputs": [
    {
     "data": {
      "text/plain": [
       "([<matplotlib.axis.XTick at 0x22195e06d90>,\n",
       "  <matplotlib.axis.XTick at 0x2219389e1d0>,\n",
       "  <matplotlib.axis.XTick at 0x22195f31e90>,\n",
       "  <matplotlib.axis.XTick at 0x221967c7b50>,\n",
       "  <matplotlib.axis.XTick at 0x221967d5c10>,\n",
       "  <matplotlib.axis.XTick at 0x221967d7690>,\n",
       "  <matplotlib.axis.XTick at 0x221967d9ed0>,\n",
       "  <matplotlib.axis.XTick at 0x221967e0110>,\n",
       "  <matplotlib.axis.XTick at 0x221967c72d0>,\n",
       "  <matplotlib.axis.XTick at 0x221967e2850>],\n",
       " [Text(1, 0, 'P2'),\n",
       "  Text(2, 0, 'P3'),\n",
       "  Text(3, 0, 'P4'),\n",
       "  Text(4, 0, 'P5'),\n",
       "  Text(5, 0, 'P6'),\n",
       "  Text(6, 0, 'P7'),\n",
       "  Text(7, 0, 'P8'),\n",
       "  Text(8, 0, 'P9'),\n",
       "  Text(9, 0, 'P10'),\n",
       "  Text(10, 0, '')])"
      ]
     },
     "execution_count": 31,
     "metadata": {},
     "output_type": "execute_result"
    },
    {
     "data": {
      "image/png": "[encoded data removed]",
      "text/plain": [
       "<Figure size 1200x600 with 1 Axes>"
      ]
     },
     "metadata": {},
     "output_type": "display_data"
    }
   ],
   "source": [
    "xdata = [1,2,3,4,5,6,7,8,9,10]\n",
    "plt.figure(figsize = (12,6))\n",
    "sns.histplot(df['STORECODE'])\n",
    "plt.xticks(xdata)"
   ]
  },
  {
   "cell_type": "markdown",
   "metadata": {},
   "source": [
    "* This Graph shows That , Most Of The Customers Buy In The Store 6, 8."
   ]
  },
  {
   "cell_type": "code",
   "execution_count": 32,
   "metadata": {
    "execution": {
     "iopub.execute_input": "2024-01-08T17:28:34.676703Z",
     "iopub.status.busy": "2024-01-08T17:28:34.675521Z",
     "iopub.status.idle": "2024-01-08T17:28:35.965739Z",
     "shell.execute_reply": "2024-01-08T17:28:35.964579Z",
     "shell.execute_reply.started": "2024-01-08T17:28:34.676655Z"
    }
   },
   "outputs": [
    {
     "data": {
      "text/plain": [
       "([<matplotlib.axis.XTick at 0x22195e06fd0>,\n",
       "  <matplotlib.axis.XTick at 0x221967c7690>,\n",
       "  <matplotlib.axis.XTick at 0x22196aafb10>,\n",
       "  <matplotlib.axis.XTick at 0x22196c18c50>,\n",
       "  <matplotlib.axis.XTick at 0x22196c1dd50>,\n",
       "  <matplotlib.axis.XTick at 0x22196c1fd90>,\n",
       "  <matplotlib.axis.XTick at 0x22196c31cd0>,\n",
       "  <matplotlib.axis.XTick at 0x22196c33cd0>,\n",
       "  <matplotlib.axis.XTick at 0x22196c32410>,\n",
       "  <matplotlib.axis.XTick at 0x22196bbdf10>],\n",
       " [Text(1, 0, '1'),\n",
       "  Text(2, 0, '2'),\n",
       "  Text(3, 0, '3'),\n",
       "  Text(4, 0, '4'),\n",
       "  Text(5, 0, '5'),\n",
       "  Text(6, 0, '6'),\n",
       "  Text(7, 0, '7'),\n",
       "  Text(8, 0, '8'),\n",
       "  Text(9, 0, '9'),\n",
       "  Text(10, 0, '10')])"
      ]
     },
     "execution_count": 32,
     "metadata": {},
     "output_type": "execute_result"
    },
    {
     "data": {
      "image/png": "[encoded data removed]",
      "text/plain": [
       "<Figure size 1200x600 with 1 Axes>"
      ]
     },
     "metadata": {},
     "output_type": "display_data"
    }
   ],
   "source": [
    "xdata = [1,2,3,4,5,6,7,8,9,10]\n",
    "plt.figure(figsize = (12,6))\n",
    "sns.histplot(df['QTY'])\n",
    "plt.xticks(xdata)"
   ]
  },
  {
   "cell_type": "markdown",
   "metadata": {},
   "source": [
    "* This Mapping Represents Most Of The Customers Buy The Products  Between 0 and 1."
   ]
  },
  {
   "cell_type": "markdown",
   "metadata": {},
   "source": [
    "# Count:"
   ]
  },
  {
   "cell_type": "code",
   "execution_count": 33,
   "metadata": {
    "execution": {
     "iopub.execute_input": "2024-01-08T17:44:26.525421Z",
     "iopub.status.busy": "2024-01-08T17:44:26.524102Z",
     "iopub.status.idle": "2024-01-08T17:44:26.539480Z",
     "shell.execute_reply": "2024-01-08T17:44:26.538099Z",
     "shell.execute_reply.started": "2024-01-08T17:44:26.525364Z"
    }
   },
   "outputs": [
    {
     "data": {
      "text/html": [
       "<div>\n",
       "<style scoped>\n",
       "    .dataframe tbody tr th:only-of-type {\n",
       "        vertical-align: middle;\n",
       "    }\n",
       "\n",
       "    .dataframe tbody tr th {\n",
       "        vertical-align: top;\n",
       "    }\n",
       "\n",
       "    .dataframe thead th {\n",
       "        text-align: right;\n",
       "    }\n",
       "</style>\n",
       "<table border=\"1\" class=\"dataframe\">\n",
       "  <thead>\n",
       "    <tr style=\"text-align: right;\">\n",
       "      <th></th>\n",
       "      <th>count</th>\n",
       "    </tr>\n",
       "    <tr>\n",
       "      <th>QTY</th>\n",
       "      <th></th>\n",
       "    </tr>\n",
       "  </thead>\n",
       "  <tbody>\n",
       "    <tr>\n",
       "      <th>0</th>\n",
       "      <td>3188</td>\n",
       "    </tr>\n",
       "    <tr>\n",
       "      <th>1</th>\n",
       "      <td>1514</td>\n",
       "    </tr>\n",
       "    <tr>\n",
       "      <th>2</th>\n",
       "      <td>1124</td>\n",
       "    </tr>\n",
       "    <tr>\n",
       "      <th>3</th>\n",
       "      <td>805</td>\n",
       "    </tr>\n",
       "    <tr>\n",
       "      <th>4</th>\n",
       "      <td>602</td>\n",
       "    </tr>\n",
       "    <tr>\n",
       "      <th>...</th>\n",
       "      <td>...</td>\n",
       "    </tr>\n",
       "    <tr>\n",
       "      <th>435</th>\n",
       "      <td>1</td>\n",
       "    </tr>\n",
       "    <tr>\n",
       "      <th>292</th>\n",
       "      <td>1</td>\n",
       "    </tr>\n",
       "    <tr>\n",
       "      <th>237</th>\n",
       "      <td>1</td>\n",
       "    </tr>\n",
       "    <tr>\n",
       "      <th>301</th>\n",
       "      <td>1</td>\n",
       "    </tr>\n",
       "    <tr>\n",
       "      <th>168</th>\n",
       "      <td>1</td>\n",
       "    </tr>\n",
       "  </tbody>\n",
       "</table>\n",
       "<p>258 rows × 1 columns</p>\n",
       "</div>"
      ],
      "text/plain": [
       "     count\n",
       "QTY       \n",
       "0     3188\n",
       "1     1514\n",
       "2     1124\n",
       "3      805\n",
       "4      602\n",
       "..     ...\n",
       "435      1\n",
       "292      1\n",
       "237      1\n",
       "301      1\n",
       "168      1\n",
       "\n",
       "[258 rows x 1 columns]"
      ]
     },
     "execution_count": 33,
     "metadata": {},
     "output_type": "execute_result"
    }
   ],
   "source": [
    "quantity_df = pd.DataFrame(df['QTY'].value_counts())\n",
    "quantity_df"
   ]
  },
  {
   "cell_type": "code",
   "execution_count": 34,
   "metadata": {
    "execution": {
     "iopub.execute_input": "2024-01-08T17:43:39.210988Z",
     "iopub.status.busy": "2024-01-08T17:43:39.210515Z",
     "iopub.status.idle": "2024-01-08T17:43:42.205821Z",
     "shell.execute_reply": "2024-01-08T17:43:42.204796Z",
     "shell.execute_reply.started": "2024-01-08T17:43:39.210947Z"
    }
   },
   "outputs": [
    {
     "data": {
      "text/plain": [
       "<Axes: xlabel='QTY', ylabel='count'>"
      ]
     },
     "execution_count": 34,
     "metadata": {},
     "output_type": "execute_result"
    },
    {
     "data": {
      "image/png": "[encoded data removed]",
      "text/plain": [
       "<Figure size 1200x600 with 1 Axes>"
      ]
     },
     "metadata": {},
     "output_type": "display_data"
    }
   ],
   "source": [
    "plt.figure(figsize = (12,6))\n",
    "sns.barplot(x = quantity_df.index , y = quantity_df['count'],palette = 'inferno')"
   ]
  },
  {
   "cell_type": "markdown",
   "metadata": {},
   "source": [
    "# Inference From The Analysis\n",
    "1.  Total months = 3\n",
    "2.  Total stores = 10\n",
    "3.  Mean Of Quantity =16.354488 \n",
    "4.  Mean Of Value =294.455330\n",
    "5.  Median Of Value = 99.0\n",
    "6.  Standard Deviation of Quantity =34.365583\n",
    "7.  Standard Deviation of Value =760.129558\n",
    "8.  No Null Values Present In The Dataset.\n",
    "9.  Max Sales Are In Month 3.\n",
    "10. Max Quantity Sold In Store 5.\n",
    "11. Max Total Value Is In store 7. \n",
    "12. Max Sales Are At Quantity Of 0 And 1 \n",
    " "
   ]
  }
 ],
 "metadata": {
  "kaggle": {
   "accelerator": "none",
   "dataSources": [
    {
     "datasetId": 560533,
     "sourceId": 1019220,
     "sourceType": "datasetVersion"
    }
   ],
   "dockerImageVersionId": 30626,
   "isGpuEnabled": false,
   "isInternetEnabled": false,
   "language": "python",
   "sourceType": "notebook"
  },
  "kernelspec": {
   "display_name": "Python 3 (ipykernel)",
   "language": "python",
   "name": "python3"
  },
  "language_info": {
   "codemirror_mode": {
    "name": "ipython",
    "version": 3
   },
   "file_extension": ".py",
   "mimetype": "text/x-python",
   "name": "python",
   "nbconvert_exporter": "python",
   "pygments_lexer": "ipython3",
   "version": "3.11.5"
  }
 },
 "nbformat": 4,
 "nbformat_minor": 4
}
